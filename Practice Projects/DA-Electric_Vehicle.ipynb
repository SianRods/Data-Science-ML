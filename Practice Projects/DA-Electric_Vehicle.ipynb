{
 "cells": [
  {
   "cell_type": "code",
   "execution_count": 73,
   "metadata": {},
   "outputs": [],
   "source": [
    "import numpy as np\n",
    "import pandas as pd\n",
    "import matplotlib.pyplot as plt\n",
    "import seaborn as sns \n",
    "import geopandas as gpd"
   ]
  },
  {
   "cell_type": "markdown",
   "metadata": {},
   "source": [
    "**Given Data is from 2020 - 2024 for all Electric Vehicle over whole United States**"
   ]
  },
  {
   "cell_type": "code",
   "execution_count": 2,
   "metadata": {},
   "outputs": [],
   "source": [
    "vehicle_df=pd.read_csv('Electric_Vehicle_Population_Data.csv')"
   ]
  },
  {
   "cell_type": "markdown",
   "metadata": {},
   "source": [
    "### Step 1 is understanding all the data , Finding Missing Values and drawing inferences "
   ]
  },
  {
   "cell_type": "code",
   "execution_count": 3,
   "metadata": {},
   "outputs": [
    {
     "data": {
      "text/html": [
       "<div>\n",
       "<style scoped>\n",
       "    .dataframe tbody tr th:only-of-type {\n",
       "        vertical-align: middle;\n",
       "    }\n",
       "\n",
       "    .dataframe tbody tr th {\n",
       "        vertical-align: top;\n",
       "    }\n",
       "\n",
       "    .dataframe thead th {\n",
       "        text-align: right;\n",
       "    }\n",
       "</style>\n",
       "<table border=\"1\" class=\"dataframe\">\n",
       "  <thead>\n",
       "    <tr style=\"text-align: right;\">\n",
       "      <th></th>\n",
       "      <th>VIN (1-10)</th>\n",
       "      <th>County</th>\n",
       "      <th>City</th>\n",
       "      <th>State</th>\n",
       "      <th>Postal Code</th>\n",
       "      <th>Model Year</th>\n",
       "      <th>Make</th>\n",
       "      <th>Model</th>\n",
       "      <th>Electric Vehicle Type</th>\n",
       "      <th>Clean Alternative Fuel Vehicle (CAFV) Eligibility</th>\n",
       "      <th>Electric Range</th>\n",
       "      <th>Base MSRP</th>\n",
       "      <th>Legislative District</th>\n",
       "      <th>DOL Vehicle ID</th>\n",
       "      <th>Vehicle Location</th>\n",
       "      <th>Electric Utility</th>\n",
       "      <th>2020 Census Tract</th>\n",
       "    </tr>\n",
       "  </thead>\n",
       "  <tbody>\n",
       "    <tr>\n",
       "      <th>0</th>\n",
       "      <td>5YJSA1E28K</td>\n",
       "      <td>Snohomish</td>\n",
       "      <td>Mukilteo</td>\n",
       "      <td>WA</td>\n",
       "      <td>98275.0</td>\n",
       "      <td>2019</td>\n",
       "      <td>TESLA</td>\n",
       "      <td>MODEL S</td>\n",
       "      <td>Battery Electric Vehicle (BEV)</td>\n",
       "      <td>Clean Alternative Fuel Vehicle Eligible</td>\n",
       "      <td>270</td>\n",
       "      <td>0</td>\n",
       "      <td>21.0</td>\n",
       "      <td>236424583</td>\n",
       "      <td>POINT (-122.29943 47.912654)</td>\n",
       "      <td>PUGET SOUND ENERGY INC</td>\n",
       "      <td>5.306104e+10</td>\n",
       "    </tr>\n",
       "    <tr>\n",
       "      <th>1</th>\n",
       "      <td>1C4JJXP68P</td>\n",
       "      <td>Yakima</td>\n",
       "      <td>Yakima</td>\n",
       "      <td>WA</td>\n",
       "      <td>98901.0</td>\n",
       "      <td>2023</td>\n",
       "      <td>JEEP</td>\n",
       "      <td>WRANGLER</td>\n",
       "      <td>Plug-in Hybrid Electric Vehicle (PHEV)</td>\n",
       "      <td>Not eligible due to low battery range</td>\n",
       "      <td>21</td>\n",
       "      <td>0</td>\n",
       "      <td>15.0</td>\n",
       "      <td>249905295</td>\n",
       "      <td>POINT (-120.4688751 46.6046178)</td>\n",
       "      <td>PACIFICORP</td>\n",
       "      <td>5.307700e+10</td>\n",
       "    </tr>\n",
       "    <tr>\n",
       "      <th>2</th>\n",
       "      <td>WBY8P6C05L</td>\n",
       "      <td>Kitsap</td>\n",
       "      <td>Kingston</td>\n",
       "      <td>WA</td>\n",
       "      <td>98346.0</td>\n",
       "      <td>2020</td>\n",
       "      <td>BMW</td>\n",
       "      <td>I3</td>\n",
       "      <td>Battery Electric Vehicle (BEV)</td>\n",
       "      <td>Clean Alternative Fuel Vehicle Eligible</td>\n",
       "      <td>153</td>\n",
       "      <td>0</td>\n",
       "      <td>23.0</td>\n",
       "      <td>260917289</td>\n",
       "      <td>POINT (-122.5178351 47.7981436)</td>\n",
       "      <td>PUGET SOUND ENERGY INC</td>\n",
       "      <td>5.303509e+10</td>\n",
       "    </tr>\n",
       "    <tr>\n",
       "      <th>3</th>\n",
       "      <td>JTDKARFP1J</td>\n",
       "      <td>Kitsap</td>\n",
       "      <td>Port Orchard</td>\n",
       "      <td>WA</td>\n",
       "      <td>98367.0</td>\n",
       "      <td>2018</td>\n",
       "      <td>TOYOTA</td>\n",
       "      <td>PRIUS PRIME</td>\n",
       "      <td>Plug-in Hybrid Electric Vehicle (PHEV)</td>\n",
       "      <td>Not eligible due to low battery range</td>\n",
       "      <td>25</td>\n",
       "      <td>0</td>\n",
       "      <td>26.0</td>\n",
       "      <td>186410087</td>\n",
       "      <td>POINT (-122.6530052 47.4739066)</td>\n",
       "      <td>PUGET SOUND ENERGY INC</td>\n",
       "      <td>5.303509e+10</td>\n",
       "    </tr>\n",
       "    <tr>\n",
       "      <th>4</th>\n",
       "      <td>5UXTA6C09N</td>\n",
       "      <td>Snohomish</td>\n",
       "      <td>Everett</td>\n",
       "      <td>WA</td>\n",
       "      <td>98208.0</td>\n",
       "      <td>2022</td>\n",
       "      <td>BMW</td>\n",
       "      <td>X5</td>\n",
       "      <td>Plug-in Hybrid Electric Vehicle (PHEV)</td>\n",
       "      <td>Clean Alternative Fuel Vehicle Eligible</td>\n",
       "      <td>30</td>\n",
       "      <td>0</td>\n",
       "      <td>44.0</td>\n",
       "      <td>186076915</td>\n",
       "      <td>POINT (-122.2032349 47.8956271)</td>\n",
       "      <td>PUGET SOUND ENERGY INC</td>\n",
       "      <td>5.306104e+10</td>\n",
       "    </tr>\n",
       "  </tbody>\n",
       "</table>\n",
       "</div>"
      ],
      "text/plain": [
       "   VIN (1-10)     County          City State  Postal Code  Model Year    Make  \\\n",
       "0  5YJSA1E28K  Snohomish      Mukilteo    WA      98275.0        2019   TESLA   \n",
       "1  1C4JJXP68P     Yakima        Yakima    WA      98901.0        2023    JEEP   \n",
       "2  WBY8P6C05L     Kitsap      Kingston    WA      98346.0        2020     BMW   \n",
       "3  JTDKARFP1J     Kitsap  Port Orchard    WA      98367.0        2018  TOYOTA   \n",
       "4  5UXTA6C09N  Snohomish       Everett    WA      98208.0        2022     BMW   \n",
       "\n",
       "         Model                   Electric Vehicle Type  \\\n",
       "0      MODEL S          Battery Electric Vehicle (BEV)   \n",
       "1     WRANGLER  Plug-in Hybrid Electric Vehicle (PHEV)   \n",
       "2           I3          Battery Electric Vehicle (BEV)   \n",
       "3  PRIUS PRIME  Plug-in Hybrid Electric Vehicle (PHEV)   \n",
       "4           X5  Plug-in Hybrid Electric Vehicle (PHEV)   \n",
       "\n",
       "  Clean Alternative Fuel Vehicle (CAFV) Eligibility  Electric Range  \\\n",
       "0           Clean Alternative Fuel Vehicle Eligible             270   \n",
       "1             Not eligible due to low battery range              21   \n",
       "2           Clean Alternative Fuel Vehicle Eligible             153   \n",
       "3             Not eligible due to low battery range              25   \n",
       "4           Clean Alternative Fuel Vehicle Eligible              30   \n",
       "\n",
       "   Base MSRP  Legislative District  DOL Vehicle ID  \\\n",
       "0          0                  21.0       236424583   \n",
       "1          0                  15.0       249905295   \n",
       "2          0                  23.0       260917289   \n",
       "3          0                  26.0       186410087   \n",
       "4          0                  44.0       186076915   \n",
       "\n",
       "                  Vehicle Location        Electric Utility  2020 Census Tract  \n",
       "0     POINT (-122.29943 47.912654)  PUGET SOUND ENERGY INC       5.306104e+10  \n",
       "1  POINT (-120.4688751 46.6046178)              PACIFICORP       5.307700e+10  \n",
       "2  POINT (-122.5178351 47.7981436)  PUGET SOUND ENERGY INC       5.303509e+10  \n",
       "3  POINT (-122.6530052 47.4739066)  PUGET SOUND ENERGY INC       5.303509e+10  \n",
       "4  POINT (-122.2032349 47.8956271)  PUGET SOUND ENERGY INC       5.306104e+10  "
      ]
     },
     "execution_count": 3,
     "metadata": {},
     "output_type": "execute_result"
    }
   ],
   "source": [
    "vehicle_df.head()"
   ]
  },
  {
   "cell_type": "code",
   "execution_count": 4,
   "metadata": {},
   "outputs": [
    {
     "data": {
      "text/plain": [
       "array(['TESLA', 'JEEP', 'BMW', 'TOYOTA', 'NISSAN', 'CHEVROLET', 'SMART',\n",
       "       'KIA', 'FORD', 'LINCOLN', 'HYUNDAI', 'AUDI', 'VOLVO', 'FIAT',\n",
       "       'MAZDA', 'VOLKSWAGEN', 'RIVIAN', 'HONDA', 'MITSUBISHI', 'POLESTAR',\n",
       "       'CHRYSLER', 'MINI', 'JAGUAR', 'MERCEDES-BENZ', 'SUBARU',\n",
       "       'CADILLAC', 'ALFA ROMEO', 'DODGE', 'LEXUS', 'PORSCHE', 'GENESIS',\n",
       "       'LUCID', 'FISKER', 'LAND ROVER', 'GMC', 'ACURA', 'BENTLEY',\n",
       "       'AZURE DYNAMICS', 'TH!NK', 'WHEEGO ELECTRIC CARS', 'ROLLS-ROYCE',\n",
       "       'RAM'], dtype=object)"
      ]
     },
     "execution_count": 4,
     "metadata": {},
     "output_type": "execute_result"
    }
   ],
   "source": [
    "vehicle_df['Make'].unique()"
   ]
  },
  {
   "cell_type": "code",
   "execution_count": 9,
   "metadata": {},
   "outputs": [
    {
     "data": {
      "text/plain": [
       "(200048, 17)"
      ]
     },
     "execution_count": 9,
     "metadata": {},
     "output_type": "execute_result"
    }
   ],
   "source": [
    "vehicle_df.shape"
   ]
  },
  {
   "cell_type": "code",
   "execution_count": 5,
   "metadata": {},
   "outputs": [
    {
     "data": {
      "text/plain": [
       "array([2019, 2023, 2020, 2018, 2022, 2012, 2011, 2015, 2016, 2014, 2021,\n",
       "       2017, 2013, 2024, 2010, 2025, 2008, 2000, 2002, 1999, 2003, 1997])"
      ]
     },
     "execution_count": 5,
     "metadata": {},
     "output_type": "execute_result"
    }
   ],
   "source": [
    "vehicle_df['Model Year'].unique()"
   ]
  },
  {
   "cell_type": "code",
   "execution_count": 6,
   "metadata": {},
   "outputs": [
    {
     "data": {
      "text/plain": [
       "np.int64(2025)"
      ]
     },
     "execution_count": 6,
     "metadata": {},
     "output_type": "execute_result"
    }
   ],
   "source": [
    "vehicle_df['Model Year'].unique().max()"
   ]
  },
  {
   "cell_type": "code",
   "execution_count": 7,
   "metadata": {},
   "outputs": [
    {
     "data": {
      "text/html": [
       "<div>\n",
       "<style scoped>\n",
       "    .dataframe tbody tr th:only-of-type {\n",
       "        vertical-align: middle;\n",
       "    }\n",
       "\n",
       "    .dataframe tbody tr th {\n",
       "        vertical-align: top;\n",
       "    }\n",
       "\n",
       "    .dataframe thead th {\n",
       "        text-align: right;\n",
       "    }\n",
       "</style>\n",
       "<table border=\"1\" class=\"dataframe\">\n",
       "  <thead>\n",
       "    <tr style=\"text-align: right;\">\n",
       "      <th></th>\n",
       "      <th>VIN (1-10)</th>\n",
       "      <th>County</th>\n",
       "      <th>City</th>\n",
       "      <th>State</th>\n",
       "      <th>Postal Code</th>\n",
       "      <th>Model Year</th>\n",
       "      <th>Make</th>\n",
       "      <th>Model</th>\n",
       "      <th>Electric Vehicle Type</th>\n",
       "      <th>Clean Alternative Fuel Vehicle (CAFV) Eligibility</th>\n",
       "      <th>Electric Range</th>\n",
       "      <th>Base MSRP</th>\n",
       "      <th>Legislative District</th>\n",
       "      <th>DOL Vehicle ID</th>\n",
       "      <th>Vehicle Location</th>\n",
       "      <th>Electric Utility</th>\n",
       "      <th>2020 Census Tract</th>\n",
       "    </tr>\n",
       "  </thead>\n",
       "  <tbody>\n",
       "    <tr>\n",
       "      <th>3105</th>\n",
       "      <td>JM3KJEHA7S</td>\n",
       "      <td>Snohomish</td>\n",
       "      <td>Lake Stevens</td>\n",
       "      <td>WA</td>\n",
       "      <td>98258.0</td>\n",
       "      <td>2025</td>\n",
       "      <td>MAZDA</td>\n",
       "      <td>CX-70</td>\n",
       "      <td>Plug-in Hybrid Electric Vehicle (PHEV)</td>\n",
       "      <td>Not eligible due to low battery range</td>\n",
       "      <td>26</td>\n",
       "      <td>0</td>\n",
       "      <td>44.0</td>\n",
       "      <td>269547729</td>\n",
       "      <td>POINT (-122.0816912 48.0122934)</td>\n",
       "      <td>PUGET SOUND ENERGY INC</td>\n",
       "      <td>5.306105e+10</td>\n",
       "    </tr>\n",
       "    <tr>\n",
       "      <th>3150</th>\n",
       "      <td>WBY13HG00S</td>\n",
       "      <td>King</td>\n",
       "      <td>Bellevue</td>\n",
       "      <td>WA</td>\n",
       "      <td>98004.0</td>\n",
       "      <td>2025</td>\n",
       "      <td>BMW</td>\n",
       "      <td>I5</td>\n",
       "      <td>Battery Electric Vehicle (BEV)</td>\n",
       "      <td>Eligibility unknown as battery range has not b...</td>\n",
       "      <td>0</td>\n",
       "      <td>0</td>\n",
       "      <td>48.0</td>\n",
       "      <td>267184340</td>\n",
       "      <td>POINT (-122.202397 47.619252)</td>\n",
       "      <td>PUGET SOUND ENERGY INC||CITY OF TACOMA - (WA)</td>\n",
       "      <td>5.303302e+10</td>\n",
       "    </tr>\n",
       "    <tr>\n",
       "      <th>4041</th>\n",
       "      <td>5UX43EU02S</td>\n",
       "      <td>King</td>\n",
       "      <td>Burien</td>\n",
       "      <td>WA</td>\n",
       "      <td>98146.0</td>\n",
       "      <td>2025</td>\n",
       "      <td>BMW</td>\n",
       "      <td>X5</td>\n",
       "      <td>Plug-in Hybrid Electric Vehicle (PHEV)</td>\n",
       "      <td>Clean Alternative Fuel Vehicle Eligible</td>\n",
       "      <td>40</td>\n",
       "      <td>0</td>\n",
       "      <td>34.0</td>\n",
       "      <td>267942132</td>\n",
       "      <td>POINT (-122.3551826 47.5000521)</td>\n",
       "      <td>CITY OF SEATTLE - (WA)|CITY OF TACOMA - (WA)</td>\n",
       "      <td>5.303303e+10</td>\n",
       "    </tr>\n",
       "    <tr>\n",
       "      <th>6853</th>\n",
       "      <td>JTJHKCFZ9S</td>\n",
       "      <td>Clark</td>\n",
       "      <td>Vancouver</td>\n",
       "      <td>WA</td>\n",
       "      <td>98685.0</td>\n",
       "      <td>2025</td>\n",
       "      <td>LEXUS</td>\n",
       "      <td>NX</td>\n",
       "      <td>Plug-in Hybrid Electric Vehicle (PHEV)</td>\n",
       "      <td>Clean Alternative Fuel Vehicle Eligible</td>\n",
       "      <td>37</td>\n",
       "      <td>0</td>\n",
       "      <td>49.0</td>\n",
       "      <td>269361074</td>\n",
       "      <td>POINT (-122.688741 45.711311)</td>\n",
       "      <td>BONNEVILLE POWER ADMINISTRATION||PUD NO 1 OF C...</td>\n",
       "      <td>5.301104e+10</td>\n",
       "    </tr>\n",
       "    <tr>\n",
       "      <th>10432</th>\n",
       "      <td>JTJKKCFZ0S</td>\n",
       "      <td>King</td>\n",
       "      <td>Seattle</td>\n",
       "      <td>WA</td>\n",
       "      <td>98146.0</td>\n",
       "      <td>2025</td>\n",
       "      <td>LEXUS</td>\n",
       "      <td>NX</td>\n",
       "      <td>Plug-in Hybrid Electric Vehicle (PHEV)</td>\n",
       "      <td>Clean Alternative Fuel Vehicle Eligible</td>\n",
       "      <td>37</td>\n",
       "      <td>0</td>\n",
       "      <td>34.0</td>\n",
       "      <td>269408968</td>\n",
       "      <td>POINT (-122.3551826 47.5000521)</td>\n",
       "      <td>CITY OF SEATTLE - (WA)|CITY OF TACOMA - (WA)</td>\n",
       "      <td>5.303301e+10</td>\n",
       "    </tr>\n",
       "    <tr>\n",
       "      <th>...</th>\n",
       "      <td>...</td>\n",
       "      <td>...</td>\n",
       "      <td>...</td>\n",
       "      <td>...</td>\n",
       "      <td>...</td>\n",
       "      <td>...</td>\n",
       "      <td>...</td>\n",
       "      <td>...</td>\n",
       "      <td>...</td>\n",
       "      <td>...</td>\n",
       "      <td>...</td>\n",
       "      <td>...</td>\n",
       "      <td>...</td>\n",
       "      <td>...</td>\n",
       "      <td>...</td>\n",
       "      <td>...</td>\n",
       "      <td>...</td>\n",
       "    </tr>\n",
       "    <tr>\n",
       "      <th>195444</th>\n",
       "      <td>WBY13HG08S</td>\n",
       "      <td>Clark</td>\n",
       "      <td>Camas</td>\n",
       "      <td>WA</td>\n",
       "      <td>98607.0</td>\n",
       "      <td>2025</td>\n",
       "      <td>BMW</td>\n",
       "      <td>I5</td>\n",
       "      <td>Battery Electric Vehicle (BEV)</td>\n",
       "      <td>Eligibility unknown as battery range has not b...</td>\n",
       "      <td>0</td>\n",
       "      <td>0</td>\n",
       "      <td>18.0</td>\n",
       "      <td>268003956</td>\n",
       "      <td>POINT (-122.4220033 45.6092439)</td>\n",
       "      <td>BONNEVILLE POWER ADMINISTRATION||PUD NO 1 OF C...</td>\n",
       "      <td>5.301104e+10</td>\n",
       "    </tr>\n",
       "    <tr>\n",
       "      <th>196276</th>\n",
       "      <td>5UX43EU00S</td>\n",
       "      <td>Pierce</td>\n",
       "      <td>Tacoma</td>\n",
       "      <td>WA</td>\n",
       "      <td>98402.0</td>\n",
       "      <td>2025</td>\n",
       "      <td>BMW</td>\n",
       "      <td>X5</td>\n",
       "      <td>Plug-in Hybrid Electric Vehicle (PHEV)</td>\n",
       "      <td>Clean Alternative Fuel Vehicle Eligible</td>\n",
       "      <td>40</td>\n",
       "      <td>0</td>\n",
       "      <td>27.0</td>\n",
       "      <td>269668248</td>\n",
       "      <td>POINT (-122.4408459 47.2499623)</td>\n",
       "      <td>BONNEVILLE POWER ADMINISTRATION||CITY OF TACOM...</td>\n",
       "      <td>5.305306e+10</td>\n",
       "    </tr>\n",
       "    <tr>\n",
       "      <th>196304</th>\n",
       "      <td>WB523CF09S</td>\n",
       "      <td>Whatcom</td>\n",
       "      <td>Point Roberts</td>\n",
       "      <td>WA</td>\n",
       "      <td>98281.0</td>\n",
       "      <td>2025</td>\n",
       "      <td>BMW</td>\n",
       "      <td>IX</td>\n",
       "      <td>Battery Electric Vehicle (BEV)</td>\n",
       "      <td>Eligibility unknown as battery range has not b...</td>\n",
       "      <td>0</td>\n",
       "      <td>0</td>\n",
       "      <td>42.0</td>\n",
       "      <td>268965161</td>\n",
       "      <td>POINT (-123.0602177 48.9910612)</td>\n",
       "      <td>PUGET SOUND ENERGY INC||PUD NO 1 OF WHATCOM CO...</td>\n",
       "      <td>5.307301e+10</td>\n",
       "    </tr>\n",
       "    <tr>\n",
       "      <th>197298</th>\n",
       "      <td>5UX43EU04S</td>\n",
       "      <td>Pierce</td>\n",
       "      <td>Puyallup</td>\n",
       "      <td>WA</td>\n",
       "      <td>98371.0</td>\n",
       "      <td>2025</td>\n",
       "      <td>BMW</td>\n",
       "      <td>X5</td>\n",
       "      <td>Plug-in Hybrid Electric Vehicle (PHEV)</td>\n",
       "      <td>Clean Alternative Fuel Vehicle Eligible</td>\n",
       "      <td>40</td>\n",
       "      <td>0</td>\n",
       "      <td>25.0</td>\n",
       "      <td>268076980</td>\n",
       "      <td>POINT (-122.3119354 47.1990211)</td>\n",
       "      <td>PUGET SOUND ENERGY INC||CITY OF TACOMA - (WA)</td>\n",
       "      <td>5.305394e+10</td>\n",
       "    </tr>\n",
       "    <tr>\n",
       "      <th>197632</th>\n",
       "      <td>KNDRMDJH3S</td>\n",
       "      <td>Spokane</td>\n",
       "      <td>Valleyford</td>\n",
       "      <td>WA</td>\n",
       "      <td>99036.0</td>\n",
       "      <td>2025</td>\n",
       "      <td>KIA</td>\n",
       "      <td>SORENTO</td>\n",
       "      <td>Plug-in Hybrid Electric Vehicle (PHEV)</td>\n",
       "      <td>Clean Alternative Fuel Vehicle Eligible</td>\n",
       "      <td>30</td>\n",
       "      <td>0</td>\n",
       "      <td>6.0</td>\n",
       "      <td>270202264</td>\n",
       "      <td>POINT (-117.2492874 47.5315211)</td>\n",
       "      <td>BONNEVILLE POWER ADMINISTRATION||AVISTA CORP||...</td>\n",
       "      <td>5.306301e+10</td>\n",
       "    </tr>\n",
       "  </tbody>\n",
       "</table>\n",
       "<p>173 rows × 17 columns</p>\n",
       "</div>"
      ],
      "text/plain": [
       "        VIN (1-10)     County           City State  Postal Code  Model Year  \\\n",
       "3105    JM3KJEHA7S  Snohomish   Lake Stevens    WA      98258.0        2025   \n",
       "3150    WBY13HG00S       King       Bellevue    WA      98004.0        2025   \n",
       "4041    5UX43EU02S       King         Burien    WA      98146.0        2025   \n",
       "6853    JTJHKCFZ9S      Clark      Vancouver    WA      98685.0        2025   \n",
       "10432   JTJKKCFZ0S       King        Seattle    WA      98146.0        2025   \n",
       "...            ...        ...            ...   ...          ...         ...   \n",
       "195444  WBY13HG08S      Clark          Camas    WA      98607.0        2025   \n",
       "196276  5UX43EU00S     Pierce         Tacoma    WA      98402.0        2025   \n",
       "196304  WB523CF09S    Whatcom  Point Roberts    WA      98281.0        2025   \n",
       "197298  5UX43EU04S     Pierce       Puyallup    WA      98371.0        2025   \n",
       "197632  KNDRMDJH3S    Spokane     Valleyford    WA      99036.0        2025   \n",
       "\n",
       "         Make    Model                   Electric Vehicle Type  \\\n",
       "3105    MAZDA    CX-70  Plug-in Hybrid Electric Vehicle (PHEV)   \n",
       "3150      BMW       I5          Battery Electric Vehicle (BEV)   \n",
       "4041      BMW       X5  Plug-in Hybrid Electric Vehicle (PHEV)   \n",
       "6853    LEXUS       NX  Plug-in Hybrid Electric Vehicle (PHEV)   \n",
       "10432   LEXUS       NX  Plug-in Hybrid Electric Vehicle (PHEV)   \n",
       "...       ...      ...                                     ...   \n",
       "195444    BMW       I5          Battery Electric Vehicle (BEV)   \n",
       "196276    BMW       X5  Plug-in Hybrid Electric Vehicle (PHEV)   \n",
       "196304    BMW       IX          Battery Electric Vehicle (BEV)   \n",
       "197298    BMW       X5  Plug-in Hybrid Electric Vehicle (PHEV)   \n",
       "197632    KIA  SORENTO  Plug-in Hybrid Electric Vehicle (PHEV)   \n",
       "\n",
       "        Clean Alternative Fuel Vehicle (CAFV) Eligibility  Electric Range  \\\n",
       "3105                Not eligible due to low battery range              26   \n",
       "3150    Eligibility unknown as battery range has not b...               0   \n",
       "4041              Clean Alternative Fuel Vehicle Eligible              40   \n",
       "6853              Clean Alternative Fuel Vehicle Eligible              37   \n",
       "10432             Clean Alternative Fuel Vehicle Eligible              37   \n",
       "...                                                   ...             ...   \n",
       "195444  Eligibility unknown as battery range has not b...               0   \n",
       "196276            Clean Alternative Fuel Vehicle Eligible              40   \n",
       "196304  Eligibility unknown as battery range has not b...               0   \n",
       "197298            Clean Alternative Fuel Vehicle Eligible              40   \n",
       "197632            Clean Alternative Fuel Vehicle Eligible              30   \n",
       "\n",
       "        Base MSRP  Legislative District  DOL Vehicle ID  \\\n",
       "3105            0                  44.0       269547729   \n",
       "3150            0                  48.0       267184340   \n",
       "4041            0                  34.0       267942132   \n",
       "6853            0                  49.0       269361074   \n",
       "10432           0                  34.0       269408968   \n",
       "...           ...                   ...             ...   \n",
       "195444          0                  18.0       268003956   \n",
       "196276          0                  27.0       269668248   \n",
       "196304          0                  42.0       268965161   \n",
       "197298          0                  25.0       268076980   \n",
       "197632          0                   6.0       270202264   \n",
       "\n",
       "                       Vehicle Location  \\\n",
       "3105    POINT (-122.0816912 48.0122934)   \n",
       "3150      POINT (-122.202397 47.619252)   \n",
       "4041    POINT (-122.3551826 47.5000521)   \n",
       "6853      POINT (-122.688741 45.711311)   \n",
       "10432   POINT (-122.3551826 47.5000521)   \n",
       "...                                 ...   \n",
       "195444  POINT (-122.4220033 45.6092439)   \n",
       "196276  POINT (-122.4408459 47.2499623)   \n",
       "196304  POINT (-123.0602177 48.9910612)   \n",
       "197298  POINT (-122.3119354 47.1990211)   \n",
       "197632  POINT (-117.2492874 47.5315211)   \n",
       "\n",
       "                                         Electric Utility  2020 Census Tract  \n",
       "3105                               PUGET SOUND ENERGY INC       5.306105e+10  \n",
       "3150        PUGET SOUND ENERGY INC||CITY OF TACOMA - (WA)       5.303302e+10  \n",
       "4041         CITY OF SEATTLE - (WA)|CITY OF TACOMA - (WA)       5.303303e+10  \n",
       "6853    BONNEVILLE POWER ADMINISTRATION||PUD NO 1 OF C...       5.301104e+10  \n",
       "10432        CITY OF SEATTLE - (WA)|CITY OF TACOMA - (WA)       5.303301e+10  \n",
       "...                                                   ...                ...  \n",
       "195444  BONNEVILLE POWER ADMINISTRATION||PUD NO 1 OF C...       5.301104e+10  \n",
       "196276  BONNEVILLE POWER ADMINISTRATION||CITY OF TACOM...       5.305306e+10  \n",
       "196304  PUGET SOUND ENERGY INC||PUD NO 1 OF WHATCOM CO...       5.307301e+10  \n",
       "197298      PUGET SOUND ENERGY INC||CITY OF TACOMA - (WA)       5.305394e+10  \n",
       "197632  BONNEVILLE POWER ADMINISTRATION||AVISTA CORP||...       5.306301e+10  \n",
       "\n",
       "[173 rows x 17 columns]"
      ]
     },
     "execution_count": 7,
     "metadata": {},
     "output_type": "execute_result"
    }
   ],
   "source": [
    "vehicle_df[vehicle_df['Model Year']==2025]\n",
    "# Model Year Can be 2025"
   ]
  },
  {
   "cell_type": "markdown",
   "metadata": {},
   "source": [
    "1. Note that the make year ranges from 1997 to 2025  For Electric Vehicle Data "
   ]
  },
  {
   "cell_type": "code",
   "execution_count": 8,
   "metadata": {},
   "outputs": [
    {
     "data": {
      "text/plain": [
       "Index(['VIN (1-10)', 'County', 'City', 'State', 'Postal Code', 'Model Year',\n",
       "       'Make', 'Model', 'Electric Vehicle Type',\n",
       "       'Clean Alternative Fuel Vehicle (CAFV) Eligibility', 'Electric Range',\n",
       "       'Base MSRP', 'Legislative District', 'DOL Vehicle ID',\n",
       "       'Vehicle Location', 'Electric Utility', '2020 Census Tract'],\n",
       "      dtype='object')"
      ]
     },
     "execution_count": 8,
     "metadata": {},
     "output_type": "execute_result"
    }
   ],
   "source": [
    "vehicle_df.columns"
   ]
  },
  {
   "cell_type": "markdown",
   "metadata": {},
   "source": [
    "* Notice that the state of washington is common for all the vehicles "
   ]
  },
  {
   "cell_type": "markdown",
   "metadata": {},
   "source": [
    "*Analyzisng the Missing Values*"
   ]
  },
  {
   "cell_type": "code",
   "execution_count": 11,
   "metadata": {},
   "outputs": [
    {
     "data": {
      "text/plain": [
       "VIN (1-10)                                             0\n",
       "County                                                 4\n",
       "City                                                   4\n",
       "State                                                  0\n",
       "Postal Code                                            4\n",
       "Model Year                                             0\n",
       "Make                                                   0\n",
       "Model                                                  0\n",
       "Electric Vehicle Type                                  0\n",
       "Clean Alternative Fuel Vehicle (CAFV) Eligibility      0\n",
       "Electric Range                                         0\n",
       "Base MSRP                                              0\n",
       "Legislative District                                 442\n",
       "DOL Vehicle ID                                         0\n",
       "Vehicle Location                                       8\n",
       "Electric Utility                                       4\n",
       "2020 Census Tract                                      4\n",
       "dtype: int64"
      ]
     },
     "execution_count": 11,
     "metadata": {},
     "output_type": "execute_result"
    }
   ],
   "source": [
    "vehicle_df.isnull().sum()"
   ]
  },
  {
   "cell_type": "markdown",
   "metadata": {},
   "source": [
    "* Apart from Legislative District all the Null Values are not significant to be dealt with "
   ]
  },
  {
   "cell_type": "code",
   "execution_count": 17,
   "metadata": {},
   "outputs": [
    {
     "data": {
      "text/plain": [
       "array([21., 15., 23., 26., 44., 36.,  2., 45., 22., 14., 47., 41.,  1.,\n",
       "       10., 46., 48.,  5., 37., 33., 35., 32., 39., 38., 43., 13., 20.,\n",
       "       34., 12., 40., 11., 30., 16., nan,  7.,  3.,  9., 42., 49., 18.,\n",
       "       19., 17., 24., 31.,  8.,  4.,  6., 27., 25., 28., 29.])"
      ]
     },
     "execution_count": 17,
     "metadata": {},
     "output_type": "execute_result"
    }
   ],
   "source": [
    "vehicle_df['Legislative District'].unique()"
   ]
  },
  {
   "cell_type": "code",
   "execution_count": 21,
   "metadata": {},
   "outputs": [
    {
     "data": {
      "text/plain": [
       "array(['Battery Electric Vehicle (BEV)',\n",
       "       'Plug-in Hybrid Electric Vehicle (PHEV)'], dtype=object)"
      ]
     },
     "execution_count": 21,
     "metadata": {},
     "output_type": "execute_result"
    }
   ],
   "source": [
    "vehicle_df['Electric Vehicle Type'].unique()"
   ]
  },
  {
   "cell_type": "markdown",
   "metadata": {},
   "source": [
    "1. It becomes really important to understand the importance of `CAFV` , `Electric Vehicle Type`"
   ]
  },
  {
   "cell_type": "code",
   "execution_count": 22,
   "metadata": {},
   "outputs": [
    {
     "data": {
      "text/plain": [
       "array(['Clean Alternative Fuel Vehicle Eligible',\n",
       "       'Not eligible due to low battery range',\n",
       "       'Eligibility unknown as battery range has not been researched'],\n",
       "      dtype=object)"
      ]
     },
     "execution_count": 22,
     "metadata": {},
     "output_type": "execute_result"
    }
   ],
   "source": [
    "vehicle_df['Clean Alternative Fuel Vehicle (CAFV) Eligibility'].unique()"
   ]
  },
  {
   "cell_type": "code",
   "execution_count": 24,
   "metadata": {},
   "outputs": [
    {
     "data": {
      "text/plain": [
       "array(['PUGET SOUND ENERGY INC', 'PACIFICORP',\n",
       "       'CITY OF SEATTLE - (WA)|CITY OF TACOMA - (WA)',\n",
       "       'PUGET SOUND ENERGY INC||CITY OF TACOMA - (WA)',\n",
       "       'PUD NO 2 OF GRANT COUNTY', 'PUD NO 1 OF CHELAN COUNTY',\n",
       "       'PUGET SOUND ENERGY INC||PUD NO 1 OF WHATCOM COUNTY', nan,\n",
       "       'AVISTA CORP', 'NON WASHINGTON STATE ELECTRIC UTILITY',\n",
       "       'MODERN ELECTRIC WATER COMPANY', 'PUD NO 1 OF WHATCOM COUNTY',\n",
       "       'BONNEVILLE POWER ADMINISTRATION||PUD NO 1 OF CLARK COUNTY - (WA)',\n",
       "       'NO KNOWN ELECTRIC UTILITY SERVICE',\n",
       "       'BONNEVILLE POWER ADMINISTRATION||PUD NO 1 OF COWLITZ COUNTY',\n",
       "       'BONNEVILLE POWER ADMINISTRATION||PUD 1 OF SNOHOMISH COUNTY',\n",
       "       'BONNEVILLE POWER ADMINISTRATION||PUD NO 1 OF MASON COUNTY|PUD NO 1 OF JEFFERSON COUNTY',\n",
       "       'BONNEVILLE POWER ADMINISTRATION||PACIFICORP||PUD NO 1 OF CLARK COUNTY - (WA)',\n",
       "       'BONNEVILLE POWER ADMINISTRATION||PUGET SOUND ENERGY INC||PUD NO 1 OF JEFFERSON COUNTY',\n",
       "       'BONNEVILLE POWER ADMINISTRATION||PUD NO 1 OF KLICKITAT COUNTY',\n",
       "       'BONNEVILLE POWER ADMINISTRATION||PUD NO 1 OF CLALLAM COUNTY',\n",
       "       'BONNEVILLE POWER ADMINISTRATION||PACIFICORP||BENTON RURAL ELECTRIC ASSN',\n",
       "       'BONNEVILLE POWER ADMINISTRATION||CITY OF TACOMA - (WA)||PENINSULA LIGHT COMPANY',\n",
       "       'CITY OF TACOMA - (WA)||TANNER ELECTRIC COOP',\n",
       "       'BONNEVILLE POWER ADMINISTRATION||CITY OF PORT ANGELES - (WA)',\n",
       "       'BONNEVILLE POWER ADMINISTRATION||CITY OF RICHLAND - (WA)',\n",
       "       'CITY OF TACOMA - (WA)',\n",
       "       'BONNEVILLE POWER ADMINISTRATION||CITY OF TACOMA - (WA)||BENTON RURAL ELECTRIC ASSN|PENINSULA LIGHT COMPANY',\n",
       "       'BONNEVILLE POWER ADMINISTRATION||VERA IRRIGATION DISTRICT #15',\n",
       "       'BONNEVILLE POWER ADMINISTRATION||AVISTA CORP||INLAND POWER & LIGHT COMPANY',\n",
       "       'BONNEVILLE POWER ADMINISTRATION||PUD NO 2 OF PACIFIC COUNTY',\n",
       "       'BONNEVILLE POWER ADMINISTRATION||PUD NO 1 OF FRANKLIN COUNTY',\n",
       "       'BONNEVILLE POWER ADMINISTRATION||ORCAS POWER & LIGHT COOP',\n",
       "       'BONNEVILLE POWER ADMINISTRATION||CITY OF TACOMA - (WA)||PUD NO 3 OF MASON COUNTY',\n",
       "       'BONNEVILLE POWER ADMINISTRATION||CITY OF TACOMA - (WA)||PUD NO 1 OF LEWIS COUNTY',\n",
       "       'BONNEVILLE POWER ADMINISTRATION||PUD NO 1 OF GRAYS HARBOR COUNTY',\n",
       "       'BONNEVILLE POWER ADMINISTRATION||CITY OF TACOMA - (WA)||PUD NO 1 OF MASON COUNTY',\n",
       "       'OKANOGAN COUNTY ELEC COOP, INC',\n",
       "       'BONNEVILLE POWER ADMINISTRATION||PUD NO 1 OF BENTON COUNTY',\n",
       "       'PUD NO 1 OF DOUGLAS COUNTY',\n",
       "       'BONNEVILLE POWER ADMINISTRATION||CITY OF TACOMA - (WA)||LAKEVIEW LIGHT & POWER|PENINSULA LIGHT COMPANY',\n",
       "       'BONNEVILLE POWER ADMINISTRATION||PUD NO 1 OF SKAMANIA CO',\n",
       "       'BONNEVILLE POWER ADMINISTRATION||CITY OF CENTRALIA - (WA)|CITY OF TACOMA - (WA)',\n",
       "       'BONNEVILLE POWER ADMINISTRATION||CITY OF TACOMA - (WA)||ELMHURST MUTUAL POWER & LIGHT CO|PENINSULA LIGHT COMPANY',\n",
       "       'CITY OF BLAINE - (WA)||PUD NO 1 OF WHATCOM COUNTY',\n",
       "       'BONNEVILLE POWER ADMINISTRATION||CITY OF ELLENSBURG - (WA)',\n",
       "       'BONNEVILLE POWER ADMINISTRATION||INLAND POWER & LIGHT COMPANY',\n",
       "       'BONNEVILLE POWER ADMINISTRATION||TOWN OF STEILACOOM|CITY OF TACOMA - (WA)||PENINSULA LIGHT COMPANY',\n",
       "       'CITY OF CHENEY - (WA)',\n",
       "       'BONNEVILLE POWER ADMINISTRATION||AVISTA CORP||BIG BEND ELECTRIC COOP, INC',\n",
       "       'BONNEVILLE POWER ADMINISTRATION||CITY OF MILTON - (WA)|CITY OF TACOMA - (WA)',\n",
       "       'BONNEVILLE POWER ADMINISTRATION||CITY OF TACOMA - (WA)||PARKLAND LIGHT & WATER COMPANY|PENINSULA LIGHT COMPANY',\n",
       "       'BONNEVILLE POWER ADMINISTRATION||CITY OF TACOMA - (WA)||OHOP MUTUAL LIGHT COMPANY, INC|PENINSULA LIGHT COMPANY',\n",
       "       'PUD NO 1 OF OKANOGAN COUNTY',\n",
       "       'BONNEVILLE POWER ADMINISTRATION||PUD NO 1 OF KITTITAS COUNTY',\n",
       "       'BONNEVILLE POWER ADMINISTRATION||TOWN OF EATONVILLE - (WA)|CITY OF TACOMA - (WA)',\n",
       "       'BONNEVILLE POWER ADMINISTRATION||NESPELEM VALLEY ELEC COOP, INC',\n",
       "       'BONNEVILLE POWER ADMINISTRATION||CITY OF MCCLEARY - (WA)',\n",
       "       'PUD NO 1 OF PEND OREILLE COUNTY', 'CITY OF CHEWELAH',\n",
       "       'BONNEVILLE POWER ADMINISTRATION||PUD NO 1 OF WAHKIAKUM COUNTY',\n",
       "       'BONNEVILLE POWER ADMINISTRATION||AVISTA CORP||PUD NO 1 OF ASOTIN COUNTY',\n",
       "       'BONNEVILLE POWER ADMINISTRATION||BENTON RURAL ELECTRIC ASSN',\n",
       "       'CITY OF SEATTLE - (WA)',\n",
       "       'BONNEVILLE POWER ADMINISTRATION||CITY OF COULEE DAM - (WA)',\n",
       "       'BONNEVILLE POWER ADMINISTRATION||PACIFICORP||COLUMBIA RURAL ELEC ASSN, INC',\n",
       "       'BONNEVILLE POWER ADMINISTRATION||COLUMBIA RURAL ELEC ASSN, INC',\n",
       "       'BONNEVILLE POWER ADMINISTRATION||BIG BEND ELECTRIC COOP, INC',\n",
       "       'PORTLAND GENERAL ELECTRIC CO',\n",
       "       'CITY OF SUMAS - (WA)||PUD NO 1 OF WHATCOM COUNTY',\n",
       "       'BONNEVILLE POWER ADMINISTRATION||CITY OF TACOMA - (WA)||ALDER MUTUAL LIGHT CO, INC|PENINSULA LIGHT COMPANY',\n",
       "       'BONNEVILLE POWER ADMINISTRATION||TOWN OF RUSTON - (WA)|CITY OF TACOMA - (WA)||PENINSULA LIGHT COMPANY',\n",
       "       'BONNEVILLE POWER ADMINISTRATION||PUD NO 1 OF FERRY COUNTY',\n",
       "       'BONNEVILLE POWER ADMINISTRATION||PUD NO 1 OF ASOTIN COUNTY',\n",
       "       'BONNEVILLE POWER ADMINISTRATION||PUD NO 1 OF JEFFERSON COUNTY'],\n",
       "      dtype=object)"
      ]
     },
     "execution_count": 24,
     "metadata": {},
     "output_type": "execute_result"
    }
   ],
   "source": [
    "vehicle_df['Electric Utility'].unique()"
   ]
  },
  {
   "cell_type": "code",
   "execution_count": 43,
   "metadata": {},
   "outputs": [
    {
     "data": {
      "text/html": [
       "<div>\n",
       "<style scoped>\n",
       "    .dataframe tbody tr th:only-of-type {\n",
       "        vertical-align: middle;\n",
       "    }\n",
       "\n",
       "    .dataframe tbody tr th {\n",
       "        vertical-align: top;\n",
       "    }\n",
       "\n",
       "    .dataframe thead th {\n",
       "        text-align: right;\n",
       "    }\n",
       "</style>\n",
       "<table border=\"1\" class=\"dataframe\">\n",
       "  <thead>\n",
       "    <tr style=\"text-align: right;\">\n",
       "      <th></th>\n",
       "      <th>VIN (1-10)</th>\n",
       "      <th>County</th>\n",
       "      <th>City</th>\n",
       "      <th>State</th>\n",
       "      <th>Postal Code</th>\n",
       "      <th>Model Year</th>\n",
       "      <th>Make</th>\n",
       "      <th>Model</th>\n",
       "      <th>Electric Vehicle Type</th>\n",
       "      <th>Clean Alternative Fuel Vehicle (CAFV) Eligibility</th>\n",
       "      <th>Electric Range</th>\n",
       "      <th>Base MSRP</th>\n",
       "      <th>Legislative District</th>\n",
       "      <th>DOL Vehicle ID</th>\n",
       "      <th>Vehicle Location</th>\n",
       "      <th>Electric Utility</th>\n",
       "      <th>2020 Census Tract</th>\n",
       "    </tr>\n",
       "  </thead>\n",
       "  <tbody>\n",
       "    <tr>\n",
       "      <th>0</th>\n",
       "      <td>5YJSA1E28K</td>\n",
       "      <td>Snohomish</td>\n",
       "      <td>Mukilteo</td>\n",
       "      <td>WA</td>\n",
       "      <td>98275.0</td>\n",
       "      <td>2019</td>\n",
       "      <td>TESLA</td>\n",
       "      <td>MODEL S</td>\n",
       "      <td>Battery Electric Vehicle (BEV)</td>\n",
       "      <td>Clean Alternative Fuel Vehicle Eligible</td>\n",
       "      <td>270</td>\n",
       "      <td>0</td>\n",
       "      <td>21.0</td>\n",
       "      <td>236424583</td>\n",
       "      <td>POINT (-122.29943 47.912654)</td>\n",
       "      <td>PUGET SOUND ENERGY INC</td>\n",
       "      <td>5.306104e+10</td>\n",
       "    </tr>\n",
       "    <tr>\n",
       "      <th>1</th>\n",
       "      <td>1C4JJXP68P</td>\n",
       "      <td>Yakima</td>\n",
       "      <td>Yakima</td>\n",
       "      <td>WA</td>\n",
       "      <td>98901.0</td>\n",
       "      <td>2023</td>\n",
       "      <td>JEEP</td>\n",
       "      <td>WRANGLER</td>\n",
       "      <td>Plug-in Hybrid Electric Vehicle (PHEV)</td>\n",
       "      <td>Not eligible due to low battery range</td>\n",
       "      <td>21</td>\n",
       "      <td>0</td>\n",
       "      <td>15.0</td>\n",
       "      <td>249905295</td>\n",
       "      <td>POINT (-120.4688751 46.6046178)</td>\n",
       "      <td>PACIFICORP</td>\n",
       "      <td>5.307700e+10</td>\n",
       "    </tr>\n",
       "    <tr>\n",
       "      <th>2</th>\n",
       "      <td>WBY8P6C05L</td>\n",
       "      <td>Kitsap</td>\n",
       "      <td>Kingston</td>\n",
       "      <td>WA</td>\n",
       "      <td>98346.0</td>\n",
       "      <td>2020</td>\n",
       "      <td>BMW</td>\n",
       "      <td>I3</td>\n",
       "      <td>Battery Electric Vehicle (BEV)</td>\n",
       "      <td>Clean Alternative Fuel Vehicle Eligible</td>\n",
       "      <td>153</td>\n",
       "      <td>0</td>\n",
       "      <td>23.0</td>\n",
       "      <td>260917289</td>\n",
       "      <td>POINT (-122.5178351 47.7981436)</td>\n",
       "      <td>PUGET SOUND ENERGY INC</td>\n",
       "      <td>5.303509e+10</td>\n",
       "    </tr>\n",
       "    <tr>\n",
       "      <th>3</th>\n",
       "      <td>JTDKARFP1J</td>\n",
       "      <td>Kitsap</td>\n",
       "      <td>Port Orchard</td>\n",
       "      <td>WA</td>\n",
       "      <td>98367.0</td>\n",
       "      <td>2018</td>\n",
       "      <td>TOYOTA</td>\n",
       "      <td>PRIUS PRIME</td>\n",
       "      <td>Plug-in Hybrid Electric Vehicle (PHEV)</td>\n",
       "      <td>Not eligible due to low battery range</td>\n",
       "      <td>25</td>\n",
       "      <td>0</td>\n",
       "      <td>26.0</td>\n",
       "      <td>186410087</td>\n",
       "      <td>POINT (-122.6530052 47.4739066)</td>\n",
       "      <td>PUGET SOUND ENERGY INC</td>\n",
       "      <td>5.303509e+10</td>\n",
       "    </tr>\n",
       "    <tr>\n",
       "      <th>4</th>\n",
       "      <td>5UXTA6C09N</td>\n",
       "      <td>Snohomish</td>\n",
       "      <td>Everett</td>\n",
       "      <td>WA</td>\n",
       "      <td>98208.0</td>\n",
       "      <td>2022</td>\n",
       "      <td>BMW</td>\n",
       "      <td>X5</td>\n",
       "      <td>Plug-in Hybrid Electric Vehicle (PHEV)</td>\n",
       "      <td>Clean Alternative Fuel Vehicle Eligible</td>\n",
       "      <td>30</td>\n",
       "      <td>0</td>\n",
       "      <td>44.0</td>\n",
       "      <td>186076915</td>\n",
       "      <td>POINT (-122.2032349 47.8956271)</td>\n",
       "      <td>PUGET SOUND ENERGY INC</td>\n",
       "      <td>5.306104e+10</td>\n",
       "    </tr>\n",
       "  </tbody>\n",
       "</table>\n",
       "</div>"
      ],
      "text/plain": [
       "   VIN (1-10)     County          City State  Postal Code  Model Year    Make  \\\n",
       "0  5YJSA1E28K  Snohomish      Mukilteo    WA      98275.0        2019   TESLA   \n",
       "1  1C4JJXP68P     Yakima        Yakima    WA      98901.0        2023    JEEP   \n",
       "2  WBY8P6C05L     Kitsap      Kingston    WA      98346.0        2020     BMW   \n",
       "3  JTDKARFP1J     Kitsap  Port Orchard    WA      98367.0        2018  TOYOTA   \n",
       "4  5UXTA6C09N  Snohomish       Everett    WA      98208.0        2022     BMW   \n",
       "\n",
       "         Model                   Electric Vehicle Type  \\\n",
       "0      MODEL S          Battery Electric Vehicle (BEV)   \n",
       "1     WRANGLER  Plug-in Hybrid Electric Vehicle (PHEV)   \n",
       "2           I3          Battery Electric Vehicle (BEV)   \n",
       "3  PRIUS PRIME  Plug-in Hybrid Electric Vehicle (PHEV)   \n",
       "4           X5  Plug-in Hybrid Electric Vehicle (PHEV)   \n",
       "\n",
       "  Clean Alternative Fuel Vehicle (CAFV) Eligibility  Electric Range  \\\n",
       "0           Clean Alternative Fuel Vehicle Eligible             270   \n",
       "1             Not eligible due to low battery range              21   \n",
       "2           Clean Alternative Fuel Vehicle Eligible             153   \n",
       "3             Not eligible due to low battery range              25   \n",
       "4           Clean Alternative Fuel Vehicle Eligible              30   \n",
       "\n",
       "   Base MSRP  Legislative District  DOL Vehicle ID  \\\n",
       "0          0                  21.0       236424583   \n",
       "1          0                  15.0       249905295   \n",
       "2          0                  23.0       260917289   \n",
       "3          0                  26.0       186410087   \n",
       "4          0                  44.0       186076915   \n",
       "\n",
       "                  Vehicle Location        Electric Utility  2020 Census Tract  \n",
       "0     POINT (-122.29943 47.912654)  PUGET SOUND ENERGY INC       5.306104e+10  \n",
       "1  POINT (-120.4688751 46.6046178)              PACIFICORP       5.307700e+10  \n",
       "2  POINT (-122.5178351 47.7981436)  PUGET SOUND ENERGY INC       5.303509e+10  \n",
       "3  POINT (-122.6530052 47.4739066)  PUGET SOUND ENERGY INC       5.303509e+10  \n",
       "4  POINT (-122.2032349 47.8956271)  PUGET SOUND ENERGY INC       5.306104e+10  "
      ]
     },
     "execution_count": 43,
     "metadata": {},
     "output_type": "execute_result"
    }
   ],
   "source": [
    "vehicle_df.head()"
   ]
  },
  {
   "cell_type": "code",
   "execution_count": 25,
   "metadata": {},
   "outputs": [
    {
     "data": {
      "text/plain": [
       "array([     0,  69900,  44100,  53400,  31950,  64950,  59900,  34995,\n",
       "        52900,  54950,  36800,  36900,  55700,  52650,  45600,  33950,\n",
       "       110950,  81100,  39995, 184400,  32250,  91250,  43700,  98950,\n",
       "        90700,  89100, 102000, 109000,  32995, 845000,  75095])"
      ]
     },
     "execution_count": 25,
     "metadata": {},
     "output_type": "execute_result"
    }
   ],
   "source": [
    "vehicle_df['Base MSRP'].unique()"
   ]
  },
  {
   "cell_type": "code",
   "execution_count": 31,
   "metadata": {},
   "outputs": [
    {
     "data": {
      "text/plain": [
       "np.int64(3321)"
      ]
     },
     "execution_count": 31,
     "metadata": {},
     "output_type": "execute_result"
    }
   ],
   "source": [
    "(vehicle_df['Base MSRP']>0).sum()"
   ]
  },
  {
   "cell_type": "code",
   "execution_count": 32,
   "metadata": {},
   "outputs": [
    {
     "data": {
      "text/plain": [
       "array(['Snohomish', 'Yakima', 'Kitsap', 'King', 'Thurston', 'Island',\n",
       "       'Grant', 'Skagit', 'Chelan', 'Whatcom', 'Pierce', 'Walla Walla',\n",
       "       nan, 'Kittitas', 'Stevens', 'Douglas', 'Maricopa', 'Tooele',\n",
       "       'Spokane', 'Whitman', 'Clark', 'Cowlitz', 'Jefferson', 'Klickitat',\n",
       "       'Clallam', 'Benton', 'Pacific', 'Franklin', 'San Juan', 'Mason',\n",
       "       'Lewis', 'Grays Harbor', 'Okanogan', 'San Diego', 'Skamania',\n",
       "       'Lincoln', 'Adams', \"St. Mary's\", 'Yuba', 'Galveston', 'Saratoga',\n",
       "       'Pend Oreille', 'Alexandria', \"Prince George's\", 'Ada',\n",
       "       'James City', 'Virginia Beach', 'Santa Clara', 'Arapahoe',\n",
       "       'Rockdale', 'Wahkiakum', 'Asotin', 'Cook', 'Riverside', 'Solano',\n",
       "       'Suffolk', 'Chesapeake', 'St. Louis', 'Fairfax', 'Anne Arundel',\n",
       "       'Harford', 'Prince William', 'Muscogee', 'San Mateo', 'DuPage',\n",
       "       'Madison', 'Howard', 'Pima', 'Pinal', 'Washtenaw', 'Orange',\n",
       "       'Marin', 'San Bernardino', 'Brown', 'Washoe', 'Lake', 'Churchill',\n",
       "       'York', 'Columbia', 'Monterey', 'Lee', 'Platte', 'Wake',\n",
       "       'Richland', 'Kern', 'Pulaski', 'Polk', 'Ferry', 'Los Angeles',\n",
       "       'Carroll', 'Contra Costa', 'DeKalb', 'Harnett', 'Kings',\n",
       "       'Sacramento', 'Garfield', 'Philadelphia', 'Multnomah', 'Kent',\n",
       "       'Ventura', 'Sarpy', 'Hamilton', 'Portsmouth', 'Frederick',\n",
       "       'Honolulu', 'Bexar', 'Harris', 'Salt Lake', 'Kootenai', 'El Paso',\n",
       "       'Tom Green', 'Isle of Wight', 'Sonoma', 'Charleston', 'Montgomery',\n",
       "       'Sedgwick', 'Berkeley', 'Newport News', 'Larimer', 'New York',\n",
       "       'Collin', 'Santa Barbara', 'Placer', 'Lexington', 'Bay',\n",
       "       'Palm Beach', 'Mobile', 'Allen', 'Otero', 'Lane', 'Marion',\n",
       "       'Caddo', 'Stafford', 'Rock Island', 'Collier', 'Williamsburg',\n",
       "       'Cumberland', 'Oldham', 'Brevard', 'Hardin',\n",
       "       'District of Columbia', 'Leavenworth', 'New London', 'Plaquemines',\n",
       "       'Calvert', 'Beaufort', 'Currituck', 'Loudoun', 'Nueces', 'Meade',\n",
       "       'Alameda', 'Wichita', 'Allegheny', 'Maui', 'Atlantic', 'Tarrant',\n",
       "       'Hillsborough', 'Middlesex', 'New Haven', 'Escambia', 'Houston',\n",
       "       'Hoke', 'Goochland', 'St. Lawrence', 'Duval', 'Autauga', 'Laramie',\n",
       "       'Denton', 'Yolo', 'Newport', 'New Castle', 'Kauai', 'Essex',\n",
       "       'Norfolk', 'Fresno', 'Pitt', 'Mercer', 'Travis', 'Hudson', 'Bell',\n",
       "       'St. Charles', 'Anchorage', 'Gwinnett', 'Albemarle', 'Burlington',\n",
       "       'Williamson', 'Chesterfield', 'Santa Cruz', 'El Dorado',\n",
       "       'Rockingham', 'Sarasota', 'Hennepin', 'Champaign', 'Cuyahoga',\n",
       "       'Fredericksburg', 'Shelby', 'Charles', 'Spotsylvania', 'Doña Ana',\n",
       "       'San Joaquin'], dtype=object)"
      ]
     },
     "execution_count": 32,
     "metadata": {},
     "output_type": "execute_result"
    }
   ],
   "source": [
    "vehicle_df['County'].unique()"
   ]
  },
  {
   "cell_type": "code",
   "execution_count": 39,
   "metadata": {},
   "outputs": [
    {
     "data": {
      "text/plain": [
       "array(['WA', 'AE', 'CO', 'AZ', 'UT', 'CA', 'MD', 'TX', 'NY', 'VA', 'ID',\n",
       "       'GA', 'IL', 'MO', 'MI', 'NV', 'WI', 'AL', 'NC', 'SC', 'OR', 'NE',\n",
       "       'PA', 'KY', 'DE', 'OH', 'HI', 'KS', 'FL', 'IN', 'BC', 'NM', 'IA',\n",
       "       'LA', 'OK', 'DC', 'CT', 'NJ', 'WY', 'RI', 'MA', 'AR', 'AK', 'NH',\n",
       "       'MN'], dtype=object)"
      ]
     },
     "execution_count": 39,
     "metadata": {},
     "output_type": "execute_result"
    }
   ],
   "source": [
    "vehicle_df['State'].unique()\n"
   ]
  },
  {
   "cell_type": "markdown",
   "metadata": {},
   "source": [
    "**Note that there are total of 45 States in Datasets**\n",
    "1. (-122.29943 47.912654): These are the latitude and longitude coordinates,\n",
    "2. 5.306104e+10 2020 Census Tract likely refers to a specific 2020 Census Tract identified by a unique numerical code of 53,061,040,000. "
   ]
  },
  {
   "cell_type": "code",
   "execution_count": 42,
   "metadata": {},
   "outputs": [
    {
     "data": {
      "text/plain": [
       "(2162,)"
      ]
     },
     "execution_count": 42,
     "metadata": {},
     "output_type": "execute_result"
    }
   ],
   "source": [
    "vehicle_df['2020 Census Tract'].unique().shape\n",
    "# There are 2162 Unique Values Corresponding to the UNIQUE ID'S of 2020 census Tract "
   ]
  },
  {
   "cell_type": "code",
   "execution_count": 53,
   "metadata": {},
   "outputs": [],
   "source": [
    "# Creating Separate Data Set For Tesla \n",
    "tesla_df=pd.DataFrame(vehicle_df[vehicle_df['Make']=='TESLA'])"
   ]
  },
  {
   "cell_type": "code",
   "execution_count": 56,
   "metadata": {},
   "outputs": [
    {
     "data": {
      "text/html": [
       "<div>\n",
       "<style scoped>\n",
       "    .dataframe tbody tr th:only-of-type {\n",
       "        vertical-align: middle;\n",
       "    }\n",
       "\n",
       "    .dataframe tbody tr th {\n",
       "        vertical-align: top;\n",
       "    }\n",
       "\n",
       "    .dataframe thead th {\n",
       "        text-align: right;\n",
       "    }\n",
       "</style>\n",
       "<table border=\"1\" class=\"dataframe\">\n",
       "  <thead>\n",
       "    <tr style=\"text-align: right;\">\n",
       "      <th></th>\n",
       "      <th>VIN (1-10)</th>\n",
       "      <th>County</th>\n",
       "      <th>City</th>\n",
       "      <th>State</th>\n",
       "      <th>Postal Code</th>\n",
       "      <th>Model Year</th>\n",
       "      <th>Make</th>\n",
       "      <th>Model</th>\n",
       "      <th>Electric Vehicle Type</th>\n",
       "      <th>Clean Alternative Fuel Vehicle (CAFV) Eligibility</th>\n",
       "      <th>Electric Range</th>\n",
       "      <th>Base MSRP</th>\n",
       "      <th>Legislative District</th>\n",
       "      <th>DOL Vehicle ID</th>\n",
       "      <th>Vehicle Location</th>\n",
       "      <th>Electric Utility</th>\n",
       "      <th>2020 Census Tract</th>\n",
       "    </tr>\n",
       "  </thead>\n",
       "  <tbody>\n",
       "    <tr>\n",
       "      <th>0</th>\n",
       "      <td>5YJSA1E28K</td>\n",
       "      <td>Snohomish</td>\n",
       "      <td>Mukilteo</td>\n",
       "      <td>WA</td>\n",
       "      <td>98275.0</td>\n",
       "      <td>2019</td>\n",
       "      <td>TESLA</td>\n",
       "      <td>MODEL S</td>\n",
       "      <td>Battery Electric Vehicle (BEV)</td>\n",
       "      <td>Clean Alternative Fuel Vehicle Eligible</td>\n",
       "      <td>270</td>\n",
       "      <td>0</td>\n",
       "      <td>21.0</td>\n",
       "      <td>236424583</td>\n",
       "      <td>POINT (-122.29943 47.912654)</td>\n",
       "      <td>PUGET SOUND ENERGY INC</td>\n",
       "      <td>5.306104e+10</td>\n",
       "    </tr>\n",
       "    <tr>\n",
       "      <th>5</th>\n",
       "      <td>5YJYGDEF8L</td>\n",
       "      <td>King</td>\n",
       "      <td>Seattle</td>\n",
       "      <td>WA</td>\n",
       "      <td>98107.0</td>\n",
       "      <td>2020</td>\n",
       "      <td>TESLA</td>\n",
       "      <td>MODEL Y</td>\n",
       "      <td>Battery Electric Vehicle (BEV)</td>\n",
       "      <td>Clean Alternative Fuel Vehicle Eligible</td>\n",
       "      <td>291</td>\n",
       "      <td>0</td>\n",
       "      <td>36.0</td>\n",
       "      <td>112984833</td>\n",
       "      <td>POINT (-122.3788863 47.6702397)</td>\n",
       "      <td>CITY OF SEATTLE - (WA)|CITY OF TACOMA - (WA)</td>\n",
       "      <td>5.303300e+10</td>\n",
       "    </tr>\n",
       "    <tr>\n",
       "      <th>13</th>\n",
       "      <td>5YJ3E1EA3K</td>\n",
       "      <td>King</td>\n",
       "      <td>Auburn</td>\n",
       "      <td>WA</td>\n",
       "      <td>98092.0</td>\n",
       "      <td>2019</td>\n",
       "      <td>TESLA</td>\n",
       "      <td>MODEL 3</td>\n",
       "      <td>Battery Electric Vehicle (BEV)</td>\n",
       "      <td>Clean Alternative Fuel Vehicle Eligible</td>\n",
       "      <td>220</td>\n",
       "      <td>0</td>\n",
       "      <td>47.0</td>\n",
       "      <td>180476327</td>\n",
       "      <td>POINT (-122.1550193 47.2884536)</td>\n",
       "      <td>PUGET SOUND ENERGY INC||CITY OF TACOMA - (WA)</td>\n",
       "      <td>5.303303e+10</td>\n",
       "    </tr>\n",
       "    <tr>\n",
       "      <th>19</th>\n",
       "      <td>5YJ3E1EA4K</td>\n",
       "      <td>Snohomish</td>\n",
       "      <td>Everett</td>\n",
       "      <td>WA</td>\n",
       "      <td>98204.0</td>\n",
       "      <td>2019</td>\n",
       "      <td>TESLA</td>\n",
       "      <td>MODEL 3</td>\n",
       "      <td>Battery Electric Vehicle (BEV)</td>\n",
       "      <td>Clean Alternative Fuel Vehicle Eligible</td>\n",
       "      <td>220</td>\n",
       "      <td>0</td>\n",
       "      <td>21.0</td>\n",
       "      <td>478330212</td>\n",
       "      <td>POINT (-122.2507211 47.8976713)</td>\n",
       "      <td>PUGET SOUND ENERGY INC</td>\n",
       "      <td>5.306104e+10</td>\n",
       "    </tr>\n",
       "    <tr>\n",
       "      <th>20</th>\n",
       "      <td>7SAYGAEE2P</td>\n",
       "      <td>King</td>\n",
       "      <td>Seattle</td>\n",
       "      <td>WA</td>\n",
       "      <td>98115.0</td>\n",
       "      <td>2023</td>\n",
       "      <td>TESLA</td>\n",
       "      <td>MODEL Y</td>\n",
       "      <td>Battery Electric Vehicle (BEV)</td>\n",
       "      <td>Eligibility unknown as battery range has not b...</td>\n",
       "      <td>0</td>\n",
       "      <td>0</td>\n",
       "      <td>46.0</td>\n",
       "      <td>257782626</td>\n",
       "      <td>POINT (-122.3008235 47.6862671)</td>\n",
       "      <td>CITY OF SEATTLE - (WA)|CITY OF TACOMA - (WA)</td>\n",
       "      <td>5.303300e+10</td>\n",
       "    </tr>\n",
       "  </tbody>\n",
       "</table>\n",
       "</div>"
      ],
      "text/plain": [
       "    VIN (1-10)     County      City State  Postal Code  Model Year   Make  \\\n",
       "0   5YJSA1E28K  Snohomish  Mukilteo    WA      98275.0        2019  TESLA   \n",
       "5   5YJYGDEF8L       King   Seattle    WA      98107.0        2020  TESLA   \n",
       "13  5YJ3E1EA3K       King    Auburn    WA      98092.0        2019  TESLA   \n",
       "19  5YJ3E1EA4K  Snohomish   Everett    WA      98204.0        2019  TESLA   \n",
       "20  7SAYGAEE2P       King   Seattle    WA      98115.0        2023  TESLA   \n",
       "\n",
       "      Model           Electric Vehicle Type  \\\n",
       "0   MODEL S  Battery Electric Vehicle (BEV)   \n",
       "5   MODEL Y  Battery Electric Vehicle (BEV)   \n",
       "13  MODEL 3  Battery Electric Vehicle (BEV)   \n",
       "19  MODEL 3  Battery Electric Vehicle (BEV)   \n",
       "20  MODEL Y  Battery Electric Vehicle (BEV)   \n",
       "\n",
       "    Clean Alternative Fuel Vehicle (CAFV) Eligibility  Electric Range  \\\n",
       "0             Clean Alternative Fuel Vehicle Eligible             270   \n",
       "5             Clean Alternative Fuel Vehicle Eligible             291   \n",
       "13            Clean Alternative Fuel Vehicle Eligible             220   \n",
       "19            Clean Alternative Fuel Vehicle Eligible             220   \n",
       "20  Eligibility unknown as battery range has not b...               0   \n",
       "\n",
       "    Base MSRP  Legislative District  DOL Vehicle ID  \\\n",
       "0           0                  21.0       236424583   \n",
       "5           0                  36.0       112984833   \n",
       "13          0                  47.0       180476327   \n",
       "19          0                  21.0       478330212   \n",
       "20          0                  46.0       257782626   \n",
       "\n",
       "                   Vehicle Location  \\\n",
       "0      POINT (-122.29943 47.912654)   \n",
       "5   POINT (-122.3788863 47.6702397)   \n",
       "13  POINT (-122.1550193 47.2884536)   \n",
       "19  POINT (-122.2507211 47.8976713)   \n",
       "20  POINT (-122.3008235 47.6862671)   \n",
       "\n",
       "                                 Electric Utility  2020 Census Tract  \n",
       "0                          PUGET SOUND ENERGY INC       5.306104e+10  \n",
       "5    CITY OF SEATTLE - (WA)|CITY OF TACOMA - (WA)       5.303300e+10  \n",
       "13  PUGET SOUND ENERGY INC||CITY OF TACOMA - (WA)       5.303303e+10  \n",
       "19                         PUGET SOUND ENERGY INC       5.306104e+10  \n",
       "20   CITY OF SEATTLE - (WA)|CITY OF TACOMA - (WA)       5.303300e+10  "
      ]
     },
     "execution_count": 56,
     "metadata": {},
     "output_type": "execute_result"
    }
   ],
   "source": [
    "tesla_df.head()"
   ]
  },
  {
   "cell_type": "code",
   "execution_count": 62,
   "metadata": {},
   "outputs": [
    {
     "data": {
      "text/plain": [
       "<BarContainer object of 88083 artists>"
      ]
     },
     "execution_count": 62,
     "metadata": {},
     "output_type": "execute_result"
    },
    {
     "data": {
      "image/png": "[encoded data removed]",
      "text/plain": [
       "<Figure size 640x480 with 1 Axes>"
      ]
     },
     "metadata": {},
     "output_type": "display_data"
    }
   ],
   "source": [
    "plt.xlabel('Tesla Make Year')\n",
    "plt.ylabel('Range of Cars ')\n",
    "plt.bar(tesla_df['Model Year'],tesla_df['Electric Range']);"
   ]
  },
  {
   "cell_type": "markdown",
   "metadata": {},
   "source": [
    "### As far as WKT format is concerned it can be Converted to GeoDataframe to be analysed easily "
   ]
  },
  {
   "cell_type": "code",
   "execution_count": 78,
   "metadata": {},
   "outputs": [
    {
     "data": {
      "text/plain": [
       "0            POINT (-122.29943 47.912654)\n",
       "5         POINT (-122.3788863 47.6702397)\n",
       "13        POINT (-122.1550193 47.2884536)\n",
       "19        POINT (-122.2507211 47.8976713)\n",
       "20        POINT (-122.3008235 47.6862671)\n",
       "                       ...               \n",
       "200033    POINT (-122.1207376 47.6705374)\n",
       "200036      POINT (-122.338942 47.821454)\n",
       "200038      POINT (-122.144149 47.560742)\n",
       "200041    POINT (-122.0816912 48.0122934)\n",
       "200047       POINT (-122.636245 47.62806)\n",
       "Name: Vehicle Location, Length: 88083, dtype: object"
      ]
     },
     "execution_count": 78,
     "metadata": {},
     "output_type": "execute_result"
    }
   ],
   "source": [
    "tesla_df['Vehicle Location']"
   ]
  },
  {
   "cell_type": "code",
   "execution_count": 86,
   "metadata": {},
   "outputs": [
    {
     "ename": "TypeError",
     "evalue": "Expected bytes or string, got float",
     "output_type": "error",
     "traceback": [
      "\u001b[1;31m---------------------------------------------------------------------------\u001b[0m",
      "\u001b[1;31mTypeError\u001b[0m                                 Traceback (most recent call last)",
      "Cell \u001b[1;32mIn[86], line 2\u001b[0m\n\u001b[0;32m      1\u001b[0m \u001b[38;5;66;03m# Create a GeoDataFrame from the WKT strings\u001b[39;00m\n\u001b[1;32m----> 2\u001b[0m tesla_df[\u001b[38;5;124m'\u001b[39m\u001b[38;5;124mgeometry\u001b[39m\u001b[38;5;124m'\u001b[39m] \u001b[38;5;241m=\u001b[39m \u001b[43mgpd\u001b[49m\u001b[38;5;241;43m.\u001b[39;49m\u001b[43mGeoSeries\u001b[49m\u001b[38;5;241;43m.\u001b[39;49m\u001b[43mfrom_wkt\u001b[49m\u001b[43m(\u001b[49m\u001b[43mtesla_df\u001b[49m\u001b[43m[\u001b[49m\u001b[38;5;124;43m'\u001b[39;49m\u001b[38;5;124;43mVehicle Location\u001b[39;49m\u001b[38;5;124;43m'\u001b[39;49m\u001b[43m]\u001b[49m\u001b[43m)\u001b[49m\n\u001b[0;32m      3\u001b[0m gdf \u001b[38;5;241m=\u001b[39m gpd\u001b[38;5;241m.\u001b[39mGeoDataFrame( geometry\u001b[38;5;241m=\u001b[39m\u001b[38;5;124m'\u001b[39m\u001b[38;5;124mgeometry\u001b[39m\u001b[38;5;124m'\u001b[39m)\n",
      "File \u001b[1;32mc:\\Users\\Sian\\AppData\\Local\\Programs\\Python\\Python312\\Lib\\site-packages\\geopandas\\geoseries.py:477\u001b[0m, in \u001b[0;36mGeoSeries.from_wkt\u001b[1;34m(cls, data, index, crs, on_invalid, **kwargs)\u001b[0m\n\u001b[0;32m    424\u001b[0m \u001b[38;5;129m@classmethod\u001b[39m\n\u001b[0;32m    425\u001b[0m \u001b[38;5;28;01mdef\u001b[39;00m \u001b[38;5;21mfrom_wkt\u001b[39m(\n\u001b[0;32m    426\u001b[0m     \u001b[38;5;28mcls\u001b[39m, data, index\u001b[38;5;241m=\u001b[39m\u001b[38;5;28;01mNone\u001b[39;00m, crs: Optional[Any] \u001b[38;5;241m=\u001b[39m \u001b[38;5;28;01mNone\u001b[39;00m, on_invalid\u001b[38;5;241m=\u001b[39m\u001b[38;5;124m\"\u001b[39m\u001b[38;5;124mraise\u001b[39m\u001b[38;5;124m\"\u001b[39m, \u001b[38;5;241m*\u001b[39m\u001b[38;5;241m*\u001b[39mkwargs\n\u001b[0;32m    427\u001b[0m ) \u001b[38;5;241m-\u001b[39m\u001b[38;5;241m>\u001b[39m GeoSeries:\n\u001b[0;32m    428\u001b[0m \u001b[38;5;250m    \u001b[39m\u001b[38;5;124;03m\"\"\"\u001b[39;00m\n\u001b[0;32m    429\u001b[0m \u001b[38;5;124;03m    Alternate constructor to create a ``GeoSeries``\u001b[39;00m\n\u001b[0;32m    430\u001b[0m \u001b[38;5;124;03m    from a list or array of WKT objects\u001b[39;00m\n\u001b[1;32m   (...)\u001b[0m\n\u001b[0;32m    475\u001b[0m \u001b[38;5;124;03m    dtype: geometry\u001b[39;00m\n\u001b[0;32m    476\u001b[0m \u001b[38;5;124;03m    \"\"\"\u001b[39;00m\n\u001b[1;32m--> 477\u001b[0m     \u001b[38;5;28;01mreturn\u001b[39;00m \u001b[38;5;28;43mcls\u001b[39;49m\u001b[38;5;241;43m.\u001b[39;49m\u001b[43m_from_wkb_or_wkt\u001b[49m\u001b[43m(\u001b[49m\n\u001b[0;32m    478\u001b[0m \u001b[43m        \u001b[49m\u001b[43mfrom_wkt\u001b[49m\u001b[43m,\u001b[49m\u001b[43m \u001b[49m\u001b[43mdata\u001b[49m\u001b[43m,\u001b[49m\u001b[43m \u001b[49m\u001b[43mindex\u001b[49m\u001b[38;5;241;43m=\u001b[39;49m\u001b[43mindex\u001b[49m\u001b[43m,\u001b[49m\u001b[43m \u001b[49m\u001b[43mcrs\u001b[49m\u001b[38;5;241;43m=\u001b[39;49m\u001b[43mcrs\u001b[49m\u001b[43m,\u001b[49m\u001b[43m \u001b[49m\u001b[43mon_invalid\u001b[49m\u001b[38;5;241;43m=\u001b[39;49m\u001b[43mon_invalid\u001b[49m\u001b[43m,\u001b[49m\u001b[43m \u001b[49m\u001b[38;5;241;43m*\u001b[39;49m\u001b[38;5;241;43m*\u001b[39;49m\u001b[43mkwargs\u001b[49m\n\u001b[0;32m    479\u001b[0m \u001b[43m    \u001b[49m\u001b[43m)\u001b[49m\n",
      "File \u001b[1;32mc:\\Users\\Sian\\AppData\\Local\\Programs\\Python\\Python312\\Lib\\site-packages\\geopandas\\geoseries.py:554\u001b[0m, in \u001b[0;36mGeoSeries._from_wkb_or_wkt\u001b[1;34m(cls, from_wkb_or_wkt_function, data, index, crs, on_invalid, **kwargs)\u001b[0m\n\u001b[0;32m    551\u001b[0m         index \u001b[38;5;241m=\u001b[39m data\u001b[38;5;241m.\u001b[39mindex\n\u001b[0;32m    552\u001b[0m     data \u001b[38;5;241m=\u001b[39m data\u001b[38;5;241m.\u001b[39mvalues\n\u001b[0;32m    553\u001b[0m \u001b[38;5;28;01mreturn\u001b[39;00m \u001b[38;5;28mcls\u001b[39m(\n\u001b[1;32m--> 554\u001b[0m     \u001b[43mfrom_wkb_or_wkt_function\u001b[49m\u001b[43m(\u001b[49m\u001b[43mdata\u001b[49m\u001b[43m,\u001b[49m\u001b[43m \u001b[49m\u001b[43mcrs\u001b[49m\u001b[38;5;241;43m=\u001b[39;49m\u001b[43mcrs\u001b[49m\u001b[43m,\u001b[49m\u001b[43m \u001b[49m\u001b[43mon_invalid\u001b[49m\u001b[38;5;241;43m=\u001b[39;49m\u001b[43mon_invalid\u001b[49m\u001b[43m)\u001b[49m,\n\u001b[0;32m    555\u001b[0m     index\u001b[38;5;241m=\u001b[39mindex,\n\u001b[0;32m    556\u001b[0m     \u001b[38;5;241m*\u001b[39m\u001b[38;5;241m*\u001b[39mkwargs,\n\u001b[0;32m    557\u001b[0m )\n",
      "File \u001b[1;32mc:\\Users\\Sian\\AppData\\Local\\Programs\\Python\\Python312\\Lib\\site-packages\\geopandas\\array.py:246\u001b[0m, in \u001b[0;36mfrom_wkt\u001b[1;34m(data, crs, on_invalid)\u001b[0m\n\u001b[0;32m    227\u001b[0m \u001b[38;5;28;01mdef\u001b[39;00m \u001b[38;5;21mfrom_wkt\u001b[39m(data, crs\u001b[38;5;241m=\u001b[39m\u001b[38;5;28;01mNone\u001b[39;00m, on_invalid\u001b[38;5;241m=\u001b[39m\u001b[38;5;124m\"\u001b[39m\u001b[38;5;124mraise\u001b[39m\u001b[38;5;124m\"\u001b[39m):\n\u001b[0;32m    228\u001b[0m \u001b[38;5;250m    \u001b[39m\u001b[38;5;124;03m\"\"\"\u001b[39;00m\n\u001b[0;32m    229\u001b[0m \u001b[38;5;124;03m    Convert a list or array of WKT objects to a GeometryArray.\u001b[39;00m\n\u001b[0;32m    230\u001b[0m \n\u001b[1;32m   (...)\u001b[0m\n\u001b[0;32m    244\u001b[0m \n\u001b[0;32m    245\u001b[0m \u001b[38;5;124;03m    \"\"\"\u001b[39;00m\n\u001b[1;32m--> 246\u001b[0m     \u001b[38;5;28;01mreturn\u001b[39;00m GeometryArray(\u001b[43mshapely\u001b[49m\u001b[38;5;241;43m.\u001b[39;49m\u001b[43mfrom_wkt\u001b[49m\u001b[43m(\u001b[49m\u001b[43mdata\u001b[49m\u001b[43m,\u001b[49m\u001b[43m \u001b[49m\u001b[43mon_invalid\u001b[49m\u001b[38;5;241;43m=\u001b[39;49m\u001b[43mon_invalid\u001b[49m\u001b[43m)\u001b[49m, crs\u001b[38;5;241m=\u001b[39mcrs)\n",
      "File \u001b[1;32mc:\\Users\\Sian\\AppData\\Local\\Programs\\Python\\Python312\\Lib\\site-packages\\shapely\\io.py:282\u001b[0m, in \u001b[0;36mfrom_wkt\u001b[1;34m(geometry, on_invalid, **kwargs)\u001b[0m\n\u001b[0;32m    278\u001b[0m     \u001b[38;5;28;01mraise\u001b[39;00m \u001b[38;5;167;01mTypeError\u001b[39;00m(\u001b[38;5;124m\"\u001b[39m\u001b[38;5;124mon_invalid only accepts scalar values\u001b[39m\u001b[38;5;124m\"\u001b[39m)\n\u001b[0;32m    280\u001b[0m invalid_handler \u001b[38;5;241m=\u001b[39m np\u001b[38;5;241m.\u001b[39muint8(DecodingErrorOptions\u001b[38;5;241m.\u001b[39mget_value(on_invalid))\n\u001b[1;32m--> 282\u001b[0m \u001b[38;5;28;01mreturn\u001b[39;00m \u001b[43mlib\u001b[49m\u001b[38;5;241;43m.\u001b[39;49m\u001b[43mfrom_wkt\u001b[49m\u001b[43m(\u001b[49m\u001b[43mgeometry\u001b[49m\u001b[43m,\u001b[49m\u001b[43m \u001b[49m\u001b[43minvalid_handler\u001b[49m\u001b[43m,\u001b[49m\u001b[43m \u001b[49m\u001b[38;5;241;43m*\u001b[39;49m\u001b[38;5;241;43m*\u001b[39;49m\u001b[43mkwargs\u001b[49m\u001b[43m)\u001b[49m\n",
      "\u001b[1;31mTypeError\u001b[0m: Expected bytes or string, got float"
     ]
    }
   ],
   "source": [
    "# Create a GeoDataFrame from the WKT strings\n",
    "tesla_df['geometry'] = gpd.GeoSeries.from_wkt(tesla_df['Vehicle Location'])\n",
    "gdf = gpd.GeoDataFrame( geometry='geometry')"
   ]
  },
  {
   "cell_type": "code",
   "execution_count": 90,
   "metadata": {},
   "outputs": [
    {
     "data": {
      "text/plain": [
       "np.int64(2)"
      ]
     },
     "execution_count": 90,
     "metadata": {},
     "output_type": "execute_result"
    }
   ],
   "source": [
    "tesla_df['Vehicle Location'].isna().sum()\n",
    "# Note that the two values are Null Values "
   ]
  },
  {
   "cell_type": "code",
   "execution_count": 91,
   "metadata": {},
   "outputs": [
    {
     "ename": "KeyError",
     "evalue": "'POINT (-122.29943 47.912654)'",
     "output_type": "error",
     "traceback": [
      "\u001b[1;31m---------------------------------------------------------------------------\u001b[0m",
      "\u001b[1;31mKeyError\u001b[0m                                  Traceback (most recent call last)",
      "File \u001b[1;32mc:\\Users\\Sian\\AppData\\Local\\Programs\\Python\\Python312\\Lib\\site-packages\\pandas\\core\\indexes\\base.py:3805\u001b[0m, in \u001b[0;36mIndex.get_loc\u001b[1;34m(self, key)\u001b[0m\n\u001b[0;32m   3804\u001b[0m \u001b[38;5;28;01mtry\u001b[39;00m:\n\u001b[1;32m-> 3805\u001b[0m     \u001b[38;5;28;01mreturn\u001b[39;00m \u001b[38;5;28;43mself\u001b[39;49m\u001b[38;5;241;43m.\u001b[39;49m\u001b[43m_engine\u001b[49m\u001b[38;5;241;43m.\u001b[39;49m\u001b[43mget_loc\u001b[49m\u001b[43m(\u001b[49m\u001b[43mcasted_key\u001b[49m\u001b[43m)\u001b[49m\n\u001b[0;32m   3806\u001b[0m \u001b[38;5;28;01mexcept\u001b[39;00m \u001b[38;5;167;01mKeyError\u001b[39;00m \u001b[38;5;28;01mas\u001b[39;00m err:\n",
      "File \u001b[1;32mindex.pyx:167\u001b[0m, in \u001b[0;36mpandas._libs.index.IndexEngine.get_loc\u001b[1;34m()\u001b[0m\n",
      "File \u001b[1;32mindex.pyx:175\u001b[0m, in \u001b[0;36mpandas._libs.index.IndexEngine.get_loc\u001b[1;34m()\u001b[0m\n",
      "File \u001b[1;32mpandas\\\\_libs\\\\index_class_helper.pxi:70\u001b[0m, in \u001b[0;36mpandas._libs.index.Int64Engine._check_type\u001b[1;34m()\u001b[0m\n",
      "\u001b[1;31mKeyError\u001b[0m: 'POINT (-122.29943 47.912654)'",
      "\nThe above exception was the direct cause of the following exception:\n",
      "\u001b[1;31mKeyError\u001b[0m                                  Traceback (most recent call last)",
      "Cell \u001b[1;32mIn[91], line 2\u001b[0m\n\u001b[0;32m      1\u001b[0m \u001b[38;5;28;01mfor\u001b[39;00m location \u001b[38;5;129;01min\u001b[39;00m tesla_df[\u001b[38;5;124m'\u001b[39m\u001b[38;5;124mVehicle Location\u001b[39m\u001b[38;5;124m'\u001b[39m]:\n\u001b[1;32m----> 2\u001b[0m  \u001b[38;5;28;01mif\u001b[39;00m (\u001b[43mtesla_df\u001b[49m\u001b[38;5;241;43m.\u001b[39;49m\u001b[43mat\u001b[49m\u001b[43m[\u001b[49m\u001b[43mlocation\u001b[49m\u001b[43m,\u001b[49m\u001b[38;5;124;43m'\u001b[39;49m\u001b[38;5;124;43mVehicle Location\u001b[39;49m\u001b[38;5;124;43m'\u001b[39;49m\u001b[43m]\u001b[49m\u001b[38;5;241m.\u001b[39mina()):\n\u001b[0;32m      3\u001b[0m   tesla_df\u001b[38;5;241m.\u001b[39mat[location,\u001b[38;5;124m'\u001b[39m\u001b[38;5;124mVehicle Location\u001b[39m\u001b[38;5;124m'\u001b[39m] \u001b[38;5;241m=\u001b[39m\u001b[38;5;124m'\u001b[39m\u001b[38;5;124m'\u001b[39m\n",
      "File \u001b[1;32mc:\\Users\\Sian\\AppData\\Local\\Programs\\Python\\Python312\\Lib\\site-packages\\pandas\\core\\indexing.py:2575\u001b[0m, in \u001b[0;36m_AtIndexer.__getitem__\u001b[1;34m(self, key)\u001b[0m\n\u001b[0;32m   2572\u001b[0m         \u001b[38;5;28;01mraise\u001b[39;00m \u001b[38;5;167;01mValueError\u001b[39;00m(\u001b[38;5;124m\"\u001b[39m\u001b[38;5;124mInvalid call for scalar access (getting)!\u001b[39m\u001b[38;5;124m\"\u001b[39m)\n\u001b[0;32m   2573\u001b[0m     \u001b[38;5;28;01mreturn\u001b[39;00m \u001b[38;5;28mself\u001b[39m\u001b[38;5;241m.\u001b[39mobj\u001b[38;5;241m.\u001b[39mloc[key]\n\u001b[1;32m-> 2575\u001b[0m \u001b[38;5;28;01mreturn\u001b[39;00m \u001b[38;5;28;43msuper\u001b[39;49m\u001b[43m(\u001b[49m\u001b[43m)\u001b[49m\u001b[38;5;241;43m.\u001b[39;49m\u001b[38;5;21;43m__getitem__\u001b[39;49m\u001b[43m(\u001b[49m\u001b[43mkey\u001b[49m\u001b[43m)\u001b[49m\n",
      "File \u001b[1;32mc:\\Users\\Sian\\AppData\\Local\\Programs\\Python\\Python312\\Lib\\site-packages\\pandas\\core\\indexing.py:2527\u001b[0m, in \u001b[0;36m_ScalarAccessIndexer.__getitem__\u001b[1;34m(self, key)\u001b[0m\n\u001b[0;32m   2524\u001b[0m         \u001b[38;5;28;01mraise\u001b[39;00m \u001b[38;5;167;01mValueError\u001b[39;00m(\u001b[38;5;124m\"\u001b[39m\u001b[38;5;124mInvalid call for scalar access (getting)!\u001b[39m\u001b[38;5;124m\"\u001b[39m)\n\u001b[0;32m   2526\u001b[0m key \u001b[38;5;241m=\u001b[39m \u001b[38;5;28mself\u001b[39m\u001b[38;5;241m.\u001b[39m_convert_key(key)\n\u001b[1;32m-> 2527\u001b[0m \u001b[38;5;28;01mreturn\u001b[39;00m \u001b[38;5;28;43mself\u001b[39;49m\u001b[38;5;241;43m.\u001b[39;49m\u001b[43mobj\u001b[49m\u001b[38;5;241;43m.\u001b[39;49m\u001b[43m_get_value\u001b[49m\u001b[43m(\u001b[49m\u001b[38;5;241;43m*\u001b[39;49m\u001b[43mkey\u001b[49m\u001b[43m,\u001b[49m\u001b[43m \u001b[49m\u001b[43mtakeable\u001b[49m\u001b[38;5;241;43m=\u001b[39;49m\u001b[38;5;28;43mself\u001b[39;49m\u001b[38;5;241;43m.\u001b[39;49m\u001b[43m_takeable\u001b[49m\u001b[43m)\u001b[49m\n",
      "File \u001b[1;32mc:\\Users\\Sian\\AppData\\Local\\Programs\\Python\\Python312\\Lib\\site-packages\\pandas\\core\\frame.py:4221\u001b[0m, in \u001b[0;36mDataFrame._get_value\u001b[1;34m(self, index, col, takeable)\u001b[0m\n\u001b[0;32m   4215\u001b[0m engine \u001b[38;5;241m=\u001b[39m \u001b[38;5;28mself\u001b[39m\u001b[38;5;241m.\u001b[39mindex\u001b[38;5;241m.\u001b[39m_engine\n\u001b[0;32m   4217\u001b[0m \u001b[38;5;28;01mif\u001b[39;00m \u001b[38;5;129;01mnot\u001b[39;00m \u001b[38;5;28misinstance\u001b[39m(\u001b[38;5;28mself\u001b[39m\u001b[38;5;241m.\u001b[39mindex, MultiIndex):\n\u001b[0;32m   4218\u001b[0m     \u001b[38;5;66;03m# CategoricalIndex: Trying to use the engine fastpath may give incorrect\u001b[39;00m\n\u001b[0;32m   4219\u001b[0m     \u001b[38;5;66;03m#  results if our categories are integers that dont match our codes\u001b[39;00m\n\u001b[0;32m   4220\u001b[0m     \u001b[38;5;66;03m# IntervalIndex: IntervalTree has no get_loc\u001b[39;00m\n\u001b[1;32m-> 4221\u001b[0m     row \u001b[38;5;241m=\u001b[39m \u001b[38;5;28;43mself\u001b[39;49m\u001b[38;5;241;43m.\u001b[39;49m\u001b[43mindex\u001b[49m\u001b[38;5;241;43m.\u001b[39;49m\u001b[43mget_loc\u001b[49m\u001b[43m(\u001b[49m\u001b[43mindex\u001b[49m\u001b[43m)\u001b[49m\n\u001b[0;32m   4222\u001b[0m     \u001b[38;5;28;01mreturn\u001b[39;00m series\u001b[38;5;241m.\u001b[39m_values[row]\n\u001b[0;32m   4224\u001b[0m \u001b[38;5;66;03m# For MultiIndex going through engine effectively restricts us to\u001b[39;00m\n\u001b[0;32m   4225\u001b[0m \u001b[38;5;66;03m#  same-length tuples; see test_get_set_value_no_partial_indexing\u001b[39;00m\n",
      "File \u001b[1;32mc:\\Users\\Sian\\AppData\\Local\\Programs\\Python\\Python312\\Lib\\site-packages\\pandas\\core\\indexes\\base.py:3812\u001b[0m, in \u001b[0;36mIndex.get_loc\u001b[1;34m(self, key)\u001b[0m\n\u001b[0;32m   3807\u001b[0m     \u001b[38;5;28;01mif\u001b[39;00m \u001b[38;5;28misinstance\u001b[39m(casted_key, \u001b[38;5;28mslice\u001b[39m) \u001b[38;5;129;01mor\u001b[39;00m (\n\u001b[0;32m   3808\u001b[0m         \u001b[38;5;28misinstance\u001b[39m(casted_key, abc\u001b[38;5;241m.\u001b[39mIterable)\n\u001b[0;32m   3809\u001b[0m         \u001b[38;5;129;01mand\u001b[39;00m \u001b[38;5;28many\u001b[39m(\u001b[38;5;28misinstance\u001b[39m(x, \u001b[38;5;28mslice\u001b[39m) \u001b[38;5;28;01mfor\u001b[39;00m x \u001b[38;5;129;01min\u001b[39;00m casted_key)\n\u001b[0;32m   3810\u001b[0m     ):\n\u001b[0;32m   3811\u001b[0m         \u001b[38;5;28;01mraise\u001b[39;00m InvalidIndexError(key)\n\u001b[1;32m-> 3812\u001b[0m     \u001b[38;5;28;01mraise\u001b[39;00m \u001b[38;5;167;01mKeyError\u001b[39;00m(key) \u001b[38;5;28;01mfrom\u001b[39;00m \u001b[38;5;21;01merr\u001b[39;00m\n\u001b[0;32m   3813\u001b[0m \u001b[38;5;28;01mexcept\u001b[39;00m \u001b[38;5;167;01mTypeError\u001b[39;00m:\n\u001b[0;32m   3814\u001b[0m     \u001b[38;5;66;03m# If we have a listlike key, _check_indexing_error will raise\u001b[39;00m\n\u001b[0;32m   3815\u001b[0m     \u001b[38;5;66;03m#  InvalidIndexError. Otherwise we fall through and re-raise\u001b[39;00m\n\u001b[0;32m   3816\u001b[0m     \u001b[38;5;66;03m#  the TypeError.\u001b[39;00m\n\u001b[0;32m   3817\u001b[0m     \u001b[38;5;28mself\u001b[39m\u001b[38;5;241m.\u001b[39m_check_indexing_error(key)\n",
      "\u001b[1;31mKeyError\u001b[0m: 'POINT (-122.29943 47.912654)'"
     ]
    }
   ],
   "source": [
    "for location in tesla_df['Vehicle Location']:\n",
    " if (tesla_df.at[location,'Vehicle Location'].ina()):\n",
    "  tesla_df.at[location,'Vehicle Location'] =''\n",
    "  "
   ]
  }
 ],
 "metadata": {
  "kernelspec": {
   "display_name": "Python 3",
   "language": "python",
   "name": "python3"
  },
  "language_info": {
   "codemirror_mode": {
    "name": "ipython",
    "version": 3
   },
   "file_extension": ".py",
   "mimetype": "text/x-python",
   "name": "python",
   "nbconvert_exporter": "python",
   "pygments_lexer": "ipython3",
   "version": "3.12.4"
  }
 },
 "nbformat": 4,
 "nbformat_minor": 2
}
