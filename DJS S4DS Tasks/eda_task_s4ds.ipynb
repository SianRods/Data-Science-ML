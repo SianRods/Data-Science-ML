{
 "cells": [
  {
   "cell_type": "code",
   "execution_count": 1,
   "metadata": {},
   "outputs": [],
   "source": [
    "import pandas as pd \n",
    "import numpy as py \n",
    "\n"
   ]
  },
  {
   "cell_type": "code",
   "execution_count": 2,
   "metadata": {},
   "outputs": [],
   "source": [
    "football_df = pd.read_excel('TASK2- DATA.xlsx')"
   ]
  },
  {
   "cell_type": "code",
   "execution_count": 3,
   "metadata": {},
   "outputs": [
    {
     "data": {
      "text/html": [
       "<div>\n",
       "<style scoped>\n",
       "    .dataframe tbody tr th:only-of-type {\n",
       "        vertical-align: middle;\n",
       "    }\n",
       "\n",
       "    .dataframe tbody tr th {\n",
       "        vertical-align: top;\n",
       "    }\n",
       "\n",
       "    .dataframe thead th {\n",
       "        text-align: right;\n",
       "    }\n",
       "</style>\n",
       "<table border=\"1\" class=\"dataframe\">\n",
       "  <thead>\n",
       "    <tr style=\"text-align: right;\">\n",
       "      <th></th>\n",
       "      <th>Season</th>\n",
       "      <th>Competition</th>\n",
       "      <th>Matchday</th>\n",
       "      <th>Date</th>\n",
       "      <th>Venue</th>\n",
       "      <th>Club</th>\n",
       "      <th>Opponent</th>\n",
       "      <th>Result</th>\n",
       "      <th>Playing_Position</th>\n",
       "      <th>Minute</th>\n",
       "      <th>At_score</th>\n",
       "      <th>Type</th>\n",
       "      <th>Goal_assist</th>\n",
       "    </tr>\n",
       "  </thead>\n",
       "  <tbody>\n",
       "    <tr>\n",
       "      <th>0</th>\n",
       "      <td>15/16</td>\n",
       "      <td>LaLiga</td>\n",
       "      <td>26</td>\n",
       "      <td>2/28/16</td>\n",
       "      <td>H</td>\n",
       "      <td>FC Barcelona</td>\n",
       "      <td>Sevilla FC</td>\n",
       "      <td>2:O1</td>\n",
       "      <td>RW</td>\n",
       "      <td>31</td>\n",
       "      <td>1:O1</td>\n",
       "      <td>Direct free kick</td>\n",
       "      <td>NaN</td>\n",
       "    </tr>\n",
       "    <tr>\n",
       "      <th>1</th>\n",
       "      <td>2O/21</td>\n",
       "      <td>NaN</td>\n",
       "      <td>NaN</td>\n",
       "      <td>NaN</td>\n",
       "      <td>A</td>\n",
       "      <td>FC Barcelona</td>\n",
       "      <td>NaN</td>\n",
       "      <td>1:OO</td>\n",
       "      <td>NaN</td>\n",
       "      <td>89</td>\n",
       "      <td>NaN</td>\n",
       "      <td>NaN</td>\n",
       "      <td>NaN</td>\n",
       "    </tr>\n",
       "    <tr>\n",
       "      <th>2</th>\n",
       "      <td>16/17</td>\n",
       "      <td>LaLiga</td>\n",
       "      <td>25</td>\n",
       "      <td>O3-O1-17</td>\n",
       "      <td>H</td>\n",
       "      <td>FC Barcelona</td>\n",
       "      <td>Sporting GijÃ³n</td>\n",
       "      <td>6:O1</td>\n",
       "      <td>RW</td>\n",
       "      <td>9</td>\n",
       "      <td>1:OO</td>\n",
       "      <td>Header</td>\n",
       "      <td>Javier Mascherano</td>\n",
       "    </tr>\n",
       "    <tr>\n",
       "      <th>3</th>\n",
       "      <td>2024-12-13 00:00:00</td>\n",
       "      <td>LaLiga</td>\n",
       "      <td>36</td>\n",
       "      <td>O5-O8-13</td>\n",
       "      <td>H</td>\n",
       "      <td>Real Madrid</td>\n",
       "      <td>Malaga CF</td>\n",
       "      <td>6:O2</td>\n",
       "      <td>LW</td>\n",
       "      <td>26</td>\n",
       "      <td>2:O1</td>\n",
       "      <td>Right-footed shot</td>\n",
       "      <td>Xabi Alonso</td>\n",
       "    </tr>\n",
       "    <tr>\n",
       "      <th>4</th>\n",
       "      <td>22/23</td>\n",
       "      <td>UEFA Champions League</td>\n",
       "      <td>Group Stage</td>\n",
       "      <td>1O/5/22</td>\n",
       "      <td>A</td>\n",
       "      <td>Paris Saint-Germain</td>\n",
       "      <td>SL Benfica</td>\n",
       "      <td>1:1</td>\n",
       "      <td>AM</td>\n",
       "      <td>22</td>\n",
       "      <td>O:1</td>\n",
       "      <td>Left-footed shot</td>\n",
       "      <td>Neymar</td>\n",
       "    </tr>\n",
       "    <tr>\n",
       "      <th>5</th>\n",
       "      <td>15/16</td>\n",
       "      <td>UEFA Champions League</td>\n",
       "      <td>last 16</td>\n",
       "      <td>O3-O8-16</td>\n",
       "      <td>H</td>\n",
       "      <td>Real Madrid</td>\n",
       "      <td>AS Roma</td>\n",
       "      <td>2:OO</td>\n",
       "      <td>CF</td>\n",
       "      <td>64</td>\n",
       "      <td>1:OO</td>\n",
       "      <td>Right-footed shot</td>\n",
       "      <td>Lucas Vazquez</td>\n",
       "    </tr>\n",
       "    <tr>\n",
       "      <th>6</th>\n",
       "      <td>15/16</td>\n",
       "      <td>LaLiga</td>\n",
       "      <td>3O</td>\n",
       "      <td>3/2O/16</td>\n",
       "      <td>H</td>\n",
       "      <td>Real Madrid</td>\n",
       "      <td>Sevilla FC</td>\n",
       "      <td>4:OO</td>\n",
       "      <td>LW</td>\n",
       "      <td>64</td>\n",
       "      <td>2:OO</td>\n",
       "      <td>Left-footed shot</td>\n",
       "      <td>Danilo</td>\n",
       "    </tr>\n",
       "    <tr>\n",
       "      <th>7</th>\n",
       "      <td>15/16</td>\n",
       "      <td>LaLiga</td>\n",
       "      <td>3</td>\n",
       "      <td>O9-12-15</td>\n",
       "      <td>A</td>\n",
       "      <td>Real Madrid</td>\n",
       "      <td>RCD Espanyol Barcelona</td>\n",
       "      <td>O:O6</td>\n",
       "      <td>LW</td>\n",
       "      <td>81</td>\n",
       "      <td>O:O6</td>\n",
       "      <td>Right-footed shot</td>\n",
       "      <td>Lucas Vazquez</td>\n",
       "    </tr>\n",
       "    <tr>\n",
       "      <th>8</th>\n",
       "      <td>NaN</td>\n",
       "      <td>NaN</td>\n",
       "      <td>NaN</td>\n",
       "      <td>11/2O/1O</td>\n",
       "      <td>NaN</td>\n",
       "      <td>Real Madrid</td>\n",
       "      <td>Ajax Amsterdam</td>\n",
       "      <td>NaN</td>\n",
       "      <td>NaN</td>\n",
       "      <td>NaN</td>\n",
       "      <td>O:O1</td>\n",
       "      <td>NaN</td>\n",
       "      <td>Andres Iniesta</td>\n",
       "    </tr>\n",
       "    <tr>\n",
       "      <th>9</th>\n",
       "      <td>13/14</td>\n",
       "      <td>LaLiga</td>\n",
       "      <td>24</td>\n",
       "      <td>2/15/14</td>\n",
       "      <td>H</td>\n",
       "      <td>FC Barcelona</td>\n",
       "      <td>Rayo Vallecano</td>\n",
       "      <td>6:OO</td>\n",
       "      <td>CF</td>\n",
       "      <td>36</td>\n",
       "      <td>2:OO</td>\n",
       "      <td>Left-footed shot</td>\n",
       "      <td>Cesc Fabregas</td>\n",
       "    </tr>\n",
       "    <tr>\n",
       "      <th>10</th>\n",
       "      <td>1O/11</td>\n",
       "      <td>UEFA Champions League</td>\n",
       "      <td>Group Stage</td>\n",
       "      <td>11-O2/1O</td>\n",
       "      <td>A</td>\n",
       "      <td>FC Barcelona</td>\n",
       "      <td>FC Copenhagen</td>\n",
       "      <td>1:O1</td>\n",
       "      <td>CF</td>\n",
       "      <td>31</td>\n",
       "      <td>O:O1</td>\n",
       "      <td>Right-footed shot</td>\n",
       "      <td>NaN</td>\n",
       "    </tr>\n",
       "    <tr>\n",
       "      <th>11</th>\n",
       "      <td>1O/11</td>\n",
       "      <td>LaLiga</td>\n",
       "      <td>9</td>\n",
       "      <td>1O/3O/1O</td>\n",
       "      <td>H</td>\n",
       "      <td>FC Barcelona</td>\n",
       "      <td>Sevilla FC</td>\n",
       "      <td>5:OO</td>\n",
       "      <td>RW</td>\n",
       "      <td>63</td>\n",
       "      <td>4:OO</td>\n",
       "      <td>Left-footed shot</td>\n",
       "      <td>NaN</td>\n",
       "    </tr>\n",
       "    <tr>\n",
       "      <th>12</th>\n",
       "      <td>O5/O6</td>\n",
       "      <td>EFL Cup</td>\n",
       "      <td>Final</td>\n",
       "      <td>2/26/O6</td>\n",
       "      <td>H</td>\n",
       "      <td>Manchester United</td>\n",
       "      <td>Wigan Athletic</td>\n",
       "      <td>4:OO</td>\n",
       "      <td>RW</td>\n",
       "      <td>59</td>\n",
       "      <td>3:OO</td>\n",
       "      <td>NaN</td>\n",
       "      <td>Louis Saha</td>\n",
       "    </tr>\n",
       "    <tr>\n",
       "      <th>13</th>\n",
       "      <td>17/18</td>\n",
       "      <td>LaLiga</td>\n",
       "      <td>31</td>\n",
       "      <td>O4/O7-18</td>\n",
       "      <td>H</td>\n",
       "      <td>FC Barcelona</td>\n",
       "      <td>CD Leganes</td>\n",
       "      <td>3:O1</td>\n",
       "      <td>SS</td>\n",
       "      <td>32</td>\n",
       "      <td>2:OO</td>\n",
       "      <td>Left-footed shot</td>\n",
       "      <td>Philippe Coutinho</td>\n",
       "    </tr>\n",
       "    <tr>\n",
       "      <th>14</th>\n",
       "      <td>15/16</td>\n",
       "      <td>LaLiga</td>\n",
       "      <td>24</td>\n",
       "      <td>2/13/16</td>\n",
       "      <td>H</td>\n",
       "      <td>Real Madrid</td>\n",
       "      <td>Athletic Bilbao</td>\n",
       "      <td>4:O2</td>\n",
       "      <td>LW</td>\n",
       "      <td>87</td>\n",
       "      <td>4:O1</td>\n",
       "      <td>Right-footed shot</td>\n",
       "      <td>Lucas Vazquez</td>\n",
       "    </tr>\n",
       "    <tr>\n",
       "      <th>15</th>\n",
       "      <td>O8/O9</td>\n",
       "      <td>Premier League</td>\n",
       "      <td>34</td>\n",
       "      <td>4/25/O9</td>\n",
       "      <td>H</td>\n",
       "      <td>Manchester United</td>\n",
       "      <td>Tottenham Hotspur</td>\n",
       "      <td>5:O2</td>\n",
       "      <td>RW</td>\n",
       "      <td>68</td>\n",
       "      <td>3:O2</td>\n",
       "      <td>Header</td>\n",
       "      <td>Wayne Rooney</td>\n",
       "    </tr>\n",
       "    <tr>\n",
       "      <th>16</th>\n",
       "      <td>13/14</td>\n",
       "      <td>UEFA Champions League</td>\n",
       "      <td>last 16</td>\n",
       "      <td>3/18/14</td>\n",
       "      <td>H</td>\n",
       "      <td>Real Madrid</td>\n",
       "      <td>FC Schalke O4</td>\n",
       "      <td>3:O1</td>\n",
       "      <td>LW</td>\n",
       "      <td>22</td>\n",
       "      <td>1:OO</td>\n",
       "      <td>Right-footed shot</td>\n",
       "      <td>Gareth Bale</td>\n",
       "    </tr>\n",
       "    <tr>\n",
       "      <th>17</th>\n",
       "      <td>O3/O4</td>\n",
       "      <td>FA Cup</td>\n",
       "      <td>Fifth Round</td>\n",
       "      <td>2/14/O4</td>\n",
       "      <td>H</td>\n",
       "      <td>Manchester United</td>\n",
       "      <td>Manchester City</td>\n",
       "      <td>4:O2</td>\n",
       "      <td>RW</td>\n",
       "      <td>74</td>\n",
       "      <td>3:OO</td>\n",
       "      <td>Right-footed shot</td>\n",
       "      <td>NaN</td>\n",
       "    </tr>\n",
       "    <tr>\n",
       "      <th>18</th>\n",
       "      <td>2024-12-11 00:00:00</td>\n",
       "      <td>NaN</td>\n",
       "      <td>23</td>\n",
       "      <td>4/29/14</td>\n",
       "      <td>A</td>\n",
       "      <td>NaN</td>\n",
       "      <td>Racing Santander</td>\n",
       "      <td>NaN</td>\n",
       "      <td>NaN</td>\n",
       "      <td>NaN</td>\n",
       "      <td>NaN</td>\n",
       "      <td>NaN</td>\n",
       "      <td>NaN</td>\n",
       "    </tr>\n",
       "    <tr>\n",
       "      <th>19</th>\n",
       "      <td>2024-12-11 00:00:00</td>\n",
       "      <td>LaLiga</td>\n",
       "      <td>15</td>\n",
       "      <td>12-O3/11</td>\n",
       "      <td>H</td>\n",
       "      <td>FC Barcelona</td>\n",
       "      <td>Levante UD</td>\n",
       "      <td>5:OO</td>\n",
       "      <td>CF</td>\n",
       "      <td>55</td>\n",
       "      <td>4:OO</td>\n",
       "      <td>Left-footed shot</td>\n",
       "      <td>Dani Alves</td>\n",
       "    </tr>\n",
       "    <tr>\n",
       "      <th>20</th>\n",
       "      <td>O8/O9</td>\n",
       "      <td>Premier League</td>\n",
       "      <td>31</td>\n",
       "      <td>O4-O5-O9</td>\n",
       "      <td>H</td>\n",
       "      <td>Manchester United</td>\n",
       "      <td>Aston Villa</td>\n",
       "      <td>3:O2</td>\n",
       "      <td>RW</td>\n",
       "      <td>11</td>\n",
       "      <td>1:OO</td>\n",
       "      <td>Direct free kick</td>\n",
       "      <td>NaN</td>\n",
       "    </tr>\n",
       "    <tr>\n",
       "      <th>21</th>\n",
       "      <td>22/23</td>\n",
       "      <td>Ligue 1</td>\n",
       "      <td>1</td>\n",
       "      <td>O8/O6-22</td>\n",
       "      <td>A</td>\n",
       "      <td>Paris Saint-Germain</td>\n",
       "      <td>Clermont Foot</td>\n",
       "      <td>O:O5</td>\n",
       "      <td>CF</td>\n",
       "      <td>86</td>\n",
       "      <td>O:O5</td>\n",
       "      <td>Left-footed shot</td>\n",
       "      <td>Leandro Paredes</td>\n",
       "    </tr>\n",
       "    <tr>\n",
       "      <th>22</th>\n",
       "      <td>O9/1O</td>\n",
       "      <td>UEFA Champions League</td>\n",
       "      <td>Group Stage</td>\n",
       "      <td>12-O8-O9</td>\n",
       "      <td>A</td>\n",
       "      <td>Real Madrid</td>\n",
       "      <td>Olympique Marseille</td>\n",
       "      <td>1:O3</td>\n",
       "      <td>CF</td>\n",
       "      <td>8O</td>\n",
       "      <td>1:O3</td>\n",
       "      <td>Right-footed shot</td>\n",
       "      <td>Lassana Diarra</td>\n",
       "    </tr>\n",
       "    <tr>\n",
       "      <th>23</th>\n",
       "      <td>2024-12-11 00:00:00</td>\n",
       "      <td>LaLiga</td>\n",
       "      <td>2</td>\n",
       "      <td>8/29/11</td>\n",
       "      <td>H</td>\n",
       "      <td>FC Barcelona</td>\n",
       "      <td>Villarreal CF</td>\n",
       "      <td>5:OO</td>\n",
       "      <td>CF</td>\n",
       "      <td>51</td>\n",
       "      <td>4:OO</td>\n",
       "      <td>Right-footed shot</td>\n",
       "      <td>Andres Iniesta</td>\n",
       "    </tr>\n",
       "    <tr>\n",
       "      <th>24</th>\n",
       "      <td>17/18</td>\n",
       "      <td>LaLiga</td>\n",
       "      <td>15</td>\n",
       "      <td>12-O9-17</td>\n",
       "      <td>H</td>\n",
       "      <td>Real Madrid</td>\n",
       "      <td>Sevilla FC</td>\n",
       "      <td>5:OO</td>\n",
       "      <td>CF</td>\n",
       "      <td>31</td>\n",
       "      <td>3:OO</td>\n",
       "      <td>Penalty</td>\n",
       "      <td>NaN</td>\n",
       "    </tr>\n",
       "    <tr>\n",
       "      <th>25</th>\n",
       "      <td>18/19</td>\n",
       "      <td>LaLiga</td>\n",
       "      <td>28</td>\n",
       "      <td>3/17/19</td>\n",
       "      <td>A</td>\n",
       "      <td>FC Barcelona</td>\n",
       "      <td>Real Betis Balompie</td>\n",
       "      <td>1:O4</td>\n",
       "      <td>SS</td>\n",
       "      <td>85</td>\n",
       "      <td>1:O4</td>\n",
       "      <td>Left-footed shot</td>\n",
       "      <td>Ivan Rakitic</td>\n",
       "    </tr>\n",
       "    <tr>\n",
       "      <th>26</th>\n",
       "      <td>2024-12-13 00:00:00</td>\n",
       "      <td>LaLiga</td>\n",
       "      <td>24</td>\n",
       "      <td>2/16/13</td>\n",
       "      <td>A</td>\n",
       "      <td>FC Barcelona</td>\n",
       "      <td>Granada CF</td>\n",
       "      <td>1:O2</td>\n",
       "      <td>CF</td>\n",
       "      <td>49</td>\n",
       "      <td>1:O1</td>\n",
       "      <td>Left-footed shot</td>\n",
       "      <td>NaN</td>\n",
       "    </tr>\n",
       "    <tr>\n",
       "      <th>27</th>\n",
       "      <td>16/17</td>\n",
       "      <td>LaLiga</td>\n",
       "      <td>28</td>\n",
       "      <td>3/19/17</td>\n",
       "      <td>H</td>\n",
       "      <td>FC Barcelona</td>\n",
       "      <td>Valencia CF</td>\n",
       "      <td>4:O2</td>\n",
       "      <td>AM</td>\n",
       "      <td>45</td>\n",
       "      <td>2:O1</td>\n",
       "      <td>Penalty</td>\n",
       "      <td>NaN</td>\n",
       "    </tr>\n",
       "    <tr>\n",
       "      <th>28</th>\n",
       "      <td>19/2O</td>\n",
       "      <td>Copa del Rey</td>\n",
       "      <td>Round of 16</td>\n",
       "      <td>1/3O/2O</td>\n",
       "      <td>H</td>\n",
       "      <td>FC Barcelona</td>\n",
       "      <td>CD Leganes</td>\n",
       "      <td>5:OO</td>\n",
       "      <td>RW</td>\n",
       "      <td>89</td>\n",
       "      <td>5:OO</td>\n",
       "      <td>Left-footed shot</td>\n",
       "      <td>Ivan Rakitic</td>\n",
       "    </tr>\n",
       "    <tr>\n",
       "      <th>29</th>\n",
       "      <td>13/14</td>\n",
       "      <td>UEFA Champions League</td>\n",
       "      <td>Group Stage</td>\n",
       "      <td>11/O6-13</td>\n",
       "      <td>H</td>\n",
       "      <td>FC Barcelona</td>\n",
       "      <td>AC Milan</td>\n",
       "      <td>3:O1</td>\n",
       "      <td>CF</td>\n",
       "      <td>3O</td>\n",
       "      <td>1:OO</td>\n",
       "      <td>Penalty</td>\n",
       "      <td>NaN</td>\n",
       "    </tr>\n",
       "  </tbody>\n",
       "</table>\n",
       "</div>"
      ],
      "text/plain": [
       "                 Season            Competition     Matchday      Date Venue  \\\n",
       "0                 15/16                 LaLiga           26   2/28/16     H   \n",
       "1                 2O/21                    NaN          NaN       NaN     A   \n",
       "2                 16/17                 LaLiga           25  O3-O1-17     H   \n",
       "3   2024-12-13 00:00:00                 LaLiga           36  O5-O8-13     H   \n",
       "4                 22/23  UEFA Champions League  Group Stage   1O/5/22     A   \n",
       "5                 15/16  UEFA Champions League      last 16  O3-O8-16     H   \n",
       "6                 15/16                 LaLiga           3O   3/2O/16     H   \n",
       "7                 15/16                 LaLiga            3  O9-12-15     A   \n",
       "8                   NaN                    NaN          NaN  11/2O/1O   NaN   \n",
       "9                 13/14                 LaLiga           24   2/15/14     H   \n",
       "10                1O/11  UEFA Champions League  Group Stage  11-O2/1O     A   \n",
       "11                1O/11                 LaLiga            9  1O/3O/1O     H   \n",
       "12                O5/O6                EFL Cup        Final   2/26/O6     H   \n",
       "13                17/18                 LaLiga           31  O4/O7-18     H   \n",
       "14                15/16                 LaLiga           24   2/13/16     H   \n",
       "15                O8/O9         Premier League           34   4/25/O9     H   \n",
       "16                13/14  UEFA Champions League      last 16   3/18/14     H   \n",
       "17                O3/O4                 FA Cup  Fifth Round   2/14/O4     H   \n",
       "18  2024-12-11 00:00:00                    NaN           23   4/29/14     A   \n",
       "19  2024-12-11 00:00:00                 LaLiga           15  12-O3/11     H   \n",
       "20                O8/O9         Premier League           31  O4-O5-O9     H   \n",
       "21                22/23                Ligue 1            1  O8/O6-22     A   \n",
       "22                O9/1O  UEFA Champions League  Group Stage  12-O8-O9     A   \n",
       "23  2024-12-11 00:00:00                 LaLiga            2   8/29/11     H   \n",
       "24                17/18                 LaLiga           15  12-O9-17     H   \n",
       "25                18/19                 LaLiga           28   3/17/19     A   \n",
       "26  2024-12-13 00:00:00                 LaLiga           24   2/16/13     A   \n",
       "27                16/17                 LaLiga           28   3/19/17     H   \n",
       "28                19/2O           Copa del Rey  Round of 16   1/3O/2O     H   \n",
       "29                13/14  UEFA Champions League  Group Stage  11/O6-13     H   \n",
       "\n",
       "                   Club                Opponent Result Playing_Position  \\\n",
       "0          FC Barcelona              Sevilla FC   2:O1               RW   \n",
       "1          FC Barcelona                     NaN   1:OO              NaN   \n",
       "2          FC Barcelona         Sporting GijÃ³n   6:O1               RW   \n",
       "3           Real Madrid               Malaga CF   6:O2               LW   \n",
       "4   Paris Saint-Germain              SL Benfica    1:1               AM   \n",
       "5           Real Madrid                 AS Roma   2:OO               CF   \n",
       "6           Real Madrid              Sevilla FC   4:OO               LW   \n",
       "7           Real Madrid  RCD Espanyol Barcelona   O:O6               LW   \n",
       "8           Real Madrid          Ajax Amsterdam    NaN              NaN   \n",
       "9          FC Barcelona          Rayo Vallecano   6:OO               CF   \n",
       "10         FC Barcelona           FC Copenhagen   1:O1               CF   \n",
       "11         FC Barcelona              Sevilla FC   5:OO               RW   \n",
       "12    Manchester United          Wigan Athletic   4:OO               RW   \n",
       "13         FC Barcelona              CD Leganes   3:O1               SS   \n",
       "14          Real Madrid         Athletic Bilbao   4:O2               LW   \n",
       "15    Manchester United       Tottenham Hotspur   5:O2               RW   \n",
       "16          Real Madrid           FC Schalke O4   3:O1               LW   \n",
       "17    Manchester United         Manchester City   4:O2               RW   \n",
       "18                  NaN        Racing Santander    NaN              NaN   \n",
       "19         FC Barcelona              Levante UD   5:OO               CF   \n",
       "20    Manchester United             Aston Villa   3:O2               RW   \n",
       "21  Paris Saint-Germain           Clermont Foot   O:O5               CF   \n",
       "22          Real Madrid     Olympique Marseille   1:O3               CF   \n",
       "23         FC Barcelona           Villarreal CF   5:OO               CF   \n",
       "24          Real Madrid              Sevilla FC   5:OO               CF   \n",
       "25         FC Barcelona     Real Betis Balompie   1:O4               SS   \n",
       "26         FC Barcelona              Granada CF   1:O2               CF   \n",
       "27         FC Barcelona             Valencia CF   4:O2               AM   \n",
       "28         FC Barcelona              CD Leganes   5:OO               RW   \n",
       "29         FC Barcelona                AC Milan   3:O1               CF   \n",
       "\n",
       "   Minute At_score               Type        Goal_assist  \n",
       "0      31     1:O1   Direct free kick                NaN  \n",
       "1      89      NaN                NaN                NaN  \n",
       "2       9     1:OO             Header  Javier Mascherano  \n",
       "3      26     2:O1  Right-footed shot        Xabi Alonso  \n",
       "4      22      O:1   Left-footed shot             Neymar  \n",
       "5      64     1:OO  Right-footed shot      Lucas Vazquez  \n",
       "6      64     2:OO   Left-footed shot             Danilo  \n",
       "7      81     O:O6  Right-footed shot      Lucas Vazquez  \n",
       "8     NaN     O:O1                NaN     Andres Iniesta  \n",
       "9      36     2:OO   Left-footed shot      Cesc Fabregas  \n",
       "10     31     O:O1  Right-footed shot                NaN  \n",
       "11     63     4:OO   Left-footed shot                NaN  \n",
       "12     59     3:OO                NaN         Louis Saha  \n",
       "13     32     2:OO   Left-footed shot  Philippe Coutinho  \n",
       "14     87     4:O1  Right-footed shot      Lucas Vazquez  \n",
       "15     68     3:O2             Header       Wayne Rooney  \n",
       "16     22     1:OO  Right-footed shot        Gareth Bale  \n",
       "17     74     3:OO  Right-footed shot                NaN  \n",
       "18    NaN      NaN                NaN                NaN  \n",
       "19     55     4:OO   Left-footed shot         Dani Alves  \n",
       "20     11     1:OO   Direct free kick                NaN  \n",
       "21     86     O:O5   Left-footed shot    Leandro Paredes  \n",
       "22     8O     1:O3  Right-footed shot     Lassana Diarra  \n",
       "23     51     4:OO  Right-footed shot     Andres Iniesta  \n",
       "24     31     3:OO            Penalty                NaN  \n",
       "25     85     1:O4   Left-footed shot       Ivan Rakitic  \n",
       "26     49     1:O1   Left-footed shot                NaN  \n",
       "27     45     2:O1            Penalty                NaN  \n",
       "28     89     5:OO   Left-footed shot       Ivan Rakitic  \n",
       "29     3O     1:OO            Penalty                NaN  "
      ]
     },
     "execution_count": 3,
     "metadata": {},
     "output_type": "execute_result"
    }
   ],
   "source": [
    "football_df.head(30)"
   ]
  },
  {
   "cell_type": "code",
   "execution_count": 4,
   "metadata": {},
   "outputs": [
    {
     "data": {
      "text/plain": [
       "(1564, 13)"
      ]
     },
     "execution_count": 4,
     "metadata": {},
     "output_type": "execute_result"
    }
   ],
   "source": [
    "football_df.shape"
   ]
  },
  {
   "cell_type": "markdown",
   "metadata": {},
   "source": [
    "**Dropping all the Matches With Null Results**"
   ]
  },
  {
   "cell_type": "code",
   "execution_count": 5,
   "metadata": {},
   "outputs": [],
   "source": [
    "for i in range(0,1564):\n",
    "\tif(football_df.at[i,'Result']==None):\n",
    "\t\tfootball_df.drop(i,inplace=True)"
   ]
  },
  {
   "cell_type": "code",
   "execution_count": 6,
   "metadata": {},
   "outputs": [
    {
     "data": {
      "text/plain": [
       "Season              object\n",
       "Competition         object\n",
       "Matchday            object\n",
       "Date                object\n",
       "Venue               object\n",
       "Club                object\n",
       "Opponent            object\n",
       "Result              object\n",
       "Playing_Position    object\n",
       "Minute              object\n",
       "At_score            object\n",
       "Type                object\n",
       "Goal_assist         object\n",
       "dtype: object"
      ]
     },
     "execution_count": 6,
     "metadata": {},
     "output_type": "execute_result"
    }
   ],
   "source": [
    "football_df.dtypes"
   ]
  },
  {
   "cell_type": "code",
   "execution_count": 7,
   "metadata": {},
   "outputs": [
    {
     "name": "stdout",
     "output_type": "stream",
     "text": [
      "<class 'pandas.core.frame.DataFrame'>\n",
      "RangeIndex: 1564 entries, 0 to 1563\n",
      "Data columns (total 13 columns):\n",
      " #   Column            Non-Null Count  Dtype \n",
      "---  ------            --------------  ----- \n",
      " 0   Season            1511 non-null   object\n",
      " 1   Competition       1497 non-null   object\n",
      " 2   Matchday          1507 non-null   object\n",
      " 3   Date              1498 non-null   object\n",
      " 4   Venue             1504 non-null   object\n",
      " 5   Club              1508 non-null   object\n",
      " 6   Opponent          1500 non-null   object\n",
      " 7   Result            1500 non-null   object\n",
      " 8   Playing_Position  1435 non-null   object\n",
      " 9   Minute            1500 non-null   object\n",
      " 10  At_score          1507 non-null   object\n",
      " 11  Type              1475 non-null   object\n",
      " 12  Goal_assist       1012 non-null   object\n",
      "dtypes: object(13)\n",
      "memory usage: 159.0+ KB\n"
     ]
    }
   ],
   "source": [
    "football_df.info()\n",
    "# Maintaining a Copy of the Original Data Frame \n",
    "main_football_df=football_df.copy()"
   ]
  },
  {
   "cell_type": "markdown",
   "metadata": {},
   "source": [
    "**Checking the Amount of Null Values in the Each Column**"
   ]
  },
  {
   "cell_type": "code",
   "execution_count": 8,
   "metadata": {},
   "outputs": [
    {
     "name": "stdout",
     "output_type": "stream",
     "text": [
      "Null Values in Season :  53\n",
      "Null Values in Competition :  67\n",
      "Null Values in MatchDay :  57\n",
      "Null Values in Date :  66\n",
      "Null Values in Venue :  60\n",
      "Null Values in  Club :  56\n",
      "Null Values in Opponent :  64\n",
      "Null Values in Result :  64\n",
      "Null Values in  Playing_Position :  129\n",
      "Null Values in Minute :  64\n",
      "Null Values in At_score :  57\n",
      "Null Values in Type :  89\n",
      "Null Values in  Goal_assist:  552\n"
     ]
    }
   ],
   "source": [
    "print(\"Null Values in Season : \",football_df['Season'].isnull().sum())\n",
    "print(\"Null Values in Competition : \",football_df['Competition'].isnull().sum())\n",
    "print(\"Null Values in MatchDay : \",football_df['Matchday'].isnull().sum())\n",
    "print(\"Null Values in Date : \",football_df['Date'].isnull().sum())\n",
    "print(\"Null Values in Venue : \",football_df['Venue'].isnull().sum())\n",
    "print(\"Null Values in  Club : \",football_df['Club'].isnull().sum())\n",
    "print(\"Null Values in Opponent : \",football_df['Opponent'].isnull().sum())\n",
    "print(\"Null Values in Result : \",football_df['Result'].isnull().sum())\n",
    "print(\"Null Values in  Playing_Position : \",football_df['Playing_Position'].isnull().sum())\n",
    "print(\"Null Values in Minute : \",football_df['Minute'].isnull().sum())\n",
    "print(\"Null Values in At_score : \",football_df['At_score'].isnull().sum())\n",
    "print(\"Null Values in Type : \",football_df['Type'].isnull().sum())\n",
    "print(\"Null Values in  Goal_assist: \",football_df['Goal_assist'].isnull().sum())\n"
   ]
  },
  {
   "cell_type": "code",
   "execution_count": 9,
   "metadata": {},
   "outputs": [
    {
     "name": "stdout",
     "output_type": "stream",
     "text": [
      "Number of Uniquie Competitions :  ['LaLiga' nan 'UEFA Champions League' 'EFL Cup' 'Premier League' 'FA Cup'\n",
      " 'Ligue 1' 'Copa del Rey' 'Serie A' 'Supercopa' 'Saudi Pro League'\n",
      " 'FIFA Club World Cup' 'Italy Cup' 'Trophée des Champions' 'Europa League'\n",
      " 'Taca de Portugal Placard' 'Champions League' 'UEFA Super Cup'\n",
      " 'Supercoppa Italiana' 'Liga Portugal' 'Troph�e des Champions'\n",
      " 'UEFA Champions League Qualifying']\n"
     ]
    },
    {
     "data": {
      "text/plain": [
       "Competition\n",
       "LaLiga                              831\n",
       "UEFA Champions League               282\n",
       "Premier League                      108\n",
       "Serie A                              88\n",
       "Copa del Rey                         80\n",
       "Ligue 1                              25\n",
       "Supercopa                            19\n",
       "FA Cup                               14\n",
       "FIFA Club World Cup                  12\n",
       "Saudi Pro League                     10\n",
       "UEFA Super Cup                        6\n",
       "EFL Cup                               4\n",
       "Italy Cup                             4\n",
       "Liga Portugal                         4\n",
       "Supercoppa Italiana                   2\n",
       "Taca de Portugal Placard              2\n",
       "Europa League                         2\n",
       "Trophée des Champions                 1\n",
       "Champions League                      1\n",
       "Troph�e des Champions                 1\n",
       "UEFA Champions League Qualifying      1\n",
       "Name: count, dtype: int64"
      ]
     },
     "execution_count": 9,
     "metadata": {},
     "output_type": "execute_result"
    }
   ],
   "source": [
    "print('Number of Uniquie Competitions : ',football_df['Competition'].unique())\n",
    "# Actual VAlue v/s Missing Values \n",
    "football_df['Competition'].value_counts()"
   ]
  },
  {
   "cell_type": "code",
   "execution_count": 28,
   "metadata": {},
   "outputs": [
    {
     "data": {
      "text/plain": [
       "Club\n",
       "FC Barcelona           717\n",
       "Real Madrid            473\n",
       "Manchester United      158\n",
       "Juventus FC            107\n",
       "Paris Saint-Germain     38\n",
       "Al-Nassr FC              9\n",
       "Sporting CP              6\n",
       "Name: count, dtype: int64"
      ]
     },
     "execution_count": 28,
     "metadata": {},
     "output_type": "execute_result"
    }
   ],
   "source": [
    "football_df['Club'].value_counts()"
   ]
  },
  {
   "cell_type": "code",
   "execution_count": 32,
   "metadata": {},
   "outputs": [
    {
     "data": {
      "text/plain": [
       "False"
      ]
     },
     "execution_count": 32,
     "metadata": {},
     "output_type": "execute_result"
    }
   ],
   "source": [
    "football_df['Opponent'].__contains__('FC Barcelona')"
   ]
  },
  {
   "cell_type": "markdown",
   "metadata": {},
   "source": [
    "**Seperation of Date-Time**\n",
    "https://saturncloud.io/blog/how-to-split-a-date-column-into-separate-day-month-year-columns-in-pandas/#:~:text=To%20split%20the%20date%20column,components%20from%20the%20datetime%20object."
   ]
  },
  {
   "cell_type": "code",
   "execution_count": 11,
   "metadata": {},
   "outputs": [
    {
     "data": {
      "text/plain": [
       "Date\n",
       "11/22/14    8\n",
       "1/27/13     8\n",
       "11/2O/1O    7\n",
       "9/24/11     7\n",
       "O3/O7/12    7\n",
       "           ..\n",
       "4/28/22     1\n",
       "1/15/O6     1\n",
       "12/29/O7    1\n",
       "4/14/O7     1\n",
       "O4-O8-18    1\n",
       "Name: count, Length: 850, dtype: int64"
      ]
     },
     "execution_count": 11,
     "metadata": {},
     "output_type": "execute_result"
    }
   ],
   "source": [
    "football_df['Date'].value_counts()"
   ]
  },
  {
   "cell_type": "code",
   "execution_count": 12,
   "metadata": {},
   "outputs": [
    {
     "data": {
      "text/plain": [
       "count            1507\n",
       "unique             53\n",
       "top       Group Stage\n",
       "freq              164\n",
       "Name: Matchday, dtype: object"
      ]
     },
     "execution_count": 12,
     "metadata": {},
     "output_type": "execute_result"
    }
   ],
   "source": [
    "football_df['Matchday'].describe()\n"
   ]
  },
  {
   "cell_type": "code",
   "execution_count": 13,
   "metadata": {},
   "outputs": [
    {
     "data": {
      "text/plain": [
       "Result\n",
       "3:OO       99\n",
       "4:OO       84\n",
       "O:O2       74\n",
       "3:O1       73\n",
       "4:O1       72\n",
       "           ..\n",
       "4:1 AET     1\n",
       "2:O         1\n",
       "2:1 AET     1\n",
       "1:O7        1\n",
       "1:2         1\n",
       "Name: count, Length: 72, dtype: int64"
      ]
     },
     "execution_count": 13,
     "metadata": {},
     "output_type": "execute_result"
    }
   ],
   "source": [
    "football_df['Result'].value_counts()"
   ]
  },
  {
   "cell_type": "code",
   "execution_count": 36,
   "metadata": {},
   "outputs": [
    {
     "data": {
      "text/plain": [
       "array([1, 0, nan, '1:2 AET', '6:5 on pens', '4:2 AET', '4:1 AET',\n",
       "       'O:1 AET', '3:4 on pens', '5:4 AET', '2:1 AET'], dtype=object)"
      ]
     },
     "execution_count": 36,
     "metadata": {},
     "output_type": "execute_result"
    }
   ],
   "source": [
    "football_df['Result'].unique()"
   ]
  },
  {
   "cell_type": "markdown",
   "metadata": {},
   "source": [
    "**Trying to Split the Result Columns into Club Win -1 and  Opponent Win--0**"
   ]
  },
  {
   "cell_type": "code",
   "execution_count": 16,
   "metadata": {},
   "outputs": [],
   "source": [
    "# Converting the Result Column\n",
    "for i in range(0,1564):\n",
    "    if(isinstance(football_df.at[i,'Result'],str) and (len(football_df.at[i,'Result'])<6)):\n",
    "        if(football_df.at[i,'Result']==None):\n",
    "            continue\n",
    "        else:\n",
    "        \n",
    "            rlist=(football_df.at[i,'Result']).replace('O','0').split(\":\")\n",
    "            rlist[0]=float(rlist[0])\n",
    "            rlist[1]=float(rlist[1])\n",
    "            if(float(rlist[0])>float(rlist[1])):\n",
    "                football_df.at[i,'Result']=1\n",
    "            elif(float(rlist[0])<float(rlist[1])):\n",
    "                football_df.at[i,'Result']=0\n",
    "            elif(float(rlist[0])==float(rlist[1])):\n",
    "                football_df.at[i,'Result']=0\n",
    "    else:\n",
    "        continue\n",
    "\n",
    "\n"
   ]
  },
  {
   "cell_type": "code",
   "execution_count": 17,
   "metadata": {},
   "outputs": [
    {
     "data": {
      "text/plain": [
       "array([1, 0, nan, '1:2 AET', '6:5 on pens', '4:2 AET', '4:1 AET',\n",
       "       'O:1 AET', '3:4 on pens', '5:4 AET', '2:1 AET'], dtype=object)"
      ]
     },
     "execution_count": 17,
     "metadata": {},
     "output_type": "execute_result"
    }
   ],
   "source": [
    "football_df['Result'].unique()"
   ]
  },
  {
   "cell_type": "markdown",
   "metadata": {},
   "source": [
    "**Dropping the Unecessary Columns**"
   ]
  },
  {
   "cell_type": "code",
   "execution_count": 18,
   "metadata": {},
   "outputs": [],
   "source": [
    "# Dropping all the unecessary rows for which the Result is Not Declared Properly \n",
    "for i in range(0,):\n",
    "\tif(football_df.at[i,'Result']==1 or football_df.at[i,'Result']==0 ):\n",
    "\t\tcontinue\n",
    "\telse:\n",
    "\t\tfootball_df.drop(index=i,inplace=True)\n",
    "\t\t\n"
   ]
  },
  {
   "cell_type": "code",
   "execution_count": 19,
   "metadata": {},
   "outputs": [
    {
     "data": {
      "text/plain": [
       "(1564, 13)"
      ]
     },
     "execution_count": 19,
     "metadata": {},
     "output_type": "execute_result"
    }
   ],
   "source": [
    "football_df.shape"
   ]
  },
  {
   "cell_type": "markdown",
   "metadata": {},
   "source": [
    "**Converting all the dates to uniform format**"
   ]
  },
  {
   "cell_type": "code",
   "execution_count": 20,
   "metadata": {},
   "outputs": [
    {
     "data": {
      "text/plain": [
       "0        2/28/16\n",
       "1            NaN\n",
       "2       O3-O1-17\n",
       "3       O5-O8-13\n",
       "4        1O/5/22\n",
       "          ...   \n",
       "1559    O5-12-21\n",
       "1560    1O-O3-12\n",
       "1561    O2/O8-15\n",
       "1562     3/14/21\n",
       "1563     3/29/14\n",
       "Name: Date, Length: 1564, dtype: object"
      ]
     },
     "execution_count": 20,
     "metadata": {},
     "output_type": "execute_result"
    }
   ],
   "source": [
    "football_df['Date']"
   ]
  },
  {
   "cell_type": "code",
   "execution_count": 41,
   "metadata": {},
   "outputs": [
    {
     "name": "stderr",
     "output_type": "stream",
     "text": [
      "C:\\Users\\Sian\\AppData\\Local\\Temp\\ipykernel_29676\\3833933708.py:1: UserWarning: Could not infer format, so each element will be parsed individually, falling back to `dateutil`. To ensure parsing is consistent and as-expected, please specify a format.\n",
      "  football_df['Date']=pd.to_datetime(football_df['Date']).dt.strftime()\n"
     ]
    },
    {
     "ename": "DateParseError",
     "evalue": "Unknown datetime string format, unable to parse: O3-O1-17, at position 2",
     "output_type": "error",
     "traceback": [
      "\u001b[1;31m---------------------------------------------------------------------------\u001b[0m",
      "\u001b[1;31mDateParseError\u001b[0m                            Traceback (most recent call last)",
      "Cell \u001b[1;32mIn[41], line 1\u001b[0m\n\u001b[1;32m----> 1\u001b[0m football_df[\u001b[38;5;124m'\u001b[39m\u001b[38;5;124mDate\u001b[39m\u001b[38;5;124m'\u001b[39m]\u001b[38;5;241m=\u001b[39m\u001b[43mpd\u001b[49m\u001b[38;5;241;43m.\u001b[39;49m\u001b[43mto_datetime\u001b[49m\u001b[43m(\u001b[49m\u001b[43mfootball_df\u001b[49m\u001b[43m[\u001b[49m\u001b[38;5;124;43m'\u001b[39;49m\u001b[38;5;124;43mDate\u001b[39;49m\u001b[38;5;124;43m'\u001b[39;49m\u001b[43m]\u001b[49m\u001b[43m)\u001b[49m\u001b[38;5;241m.\u001b[39mdt\u001b[38;5;241m.\u001b[39mstrftime()\n",
      "File \u001b[1;32mc:\\Users\\Sian\\AppData\\Local\\Programs\\Python\\Python312\\Lib\\site-packages\\pandas\\core\\tools\\datetimes.py:1067\u001b[0m, in \u001b[0;36mto_datetime\u001b[1;34m(arg, errors, dayfirst, yearfirst, utc, format, exact, unit, infer_datetime_format, origin, cache)\u001b[0m\n\u001b[0;32m   1065\u001b[0m         result \u001b[38;5;241m=\u001b[39m arg\u001b[38;5;241m.\u001b[39mmap(cache_array)\n\u001b[0;32m   1066\u001b[0m     \u001b[38;5;28;01melse\u001b[39;00m:\n\u001b[1;32m-> 1067\u001b[0m         values \u001b[38;5;241m=\u001b[39m \u001b[43mconvert_listlike\u001b[49m\u001b[43m(\u001b[49m\u001b[43marg\u001b[49m\u001b[38;5;241;43m.\u001b[39;49m\u001b[43m_values\u001b[49m\u001b[43m,\u001b[49m\u001b[43m \u001b[49m\u001b[38;5;28;43mformat\u001b[39;49m\u001b[43m)\u001b[49m\n\u001b[0;32m   1068\u001b[0m         result \u001b[38;5;241m=\u001b[39m arg\u001b[38;5;241m.\u001b[39m_constructor(values, index\u001b[38;5;241m=\u001b[39marg\u001b[38;5;241m.\u001b[39mindex, name\u001b[38;5;241m=\u001b[39marg\u001b[38;5;241m.\u001b[39mname)\n\u001b[0;32m   1069\u001b[0m \u001b[38;5;28;01melif\u001b[39;00m \u001b[38;5;28misinstance\u001b[39m(arg, (ABCDataFrame, abc\u001b[38;5;241m.\u001b[39mMutableMapping)):\n",
      "File \u001b[1;32mc:\\Users\\Sian\\AppData\\Local\\Programs\\Python\\Python312\\Lib\\site-packages\\pandas\\core\\tools\\datetimes.py:435\u001b[0m, in \u001b[0;36m_convert_listlike_datetimes\u001b[1;34m(arg, format, name, utc, unit, errors, dayfirst, yearfirst, exact)\u001b[0m\n\u001b[0;32m    432\u001b[0m \u001b[38;5;28;01mif\u001b[39;00m \u001b[38;5;28mformat\u001b[39m \u001b[38;5;129;01mis\u001b[39;00m \u001b[38;5;129;01mnot\u001b[39;00m \u001b[38;5;28;01mNone\u001b[39;00m \u001b[38;5;129;01mand\u001b[39;00m \u001b[38;5;28mformat\u001b[39m \u001b[38;5;241m!=\u001b[39m \u001b[38;5;124m\"\u001b[39m\u001b[38;5;124mmixed\u001b[39m\u001b[38;5;124m\"\u001b[39m:\n\u001b[0;32m    433\u001b[0m     \u001b[38;5;28;01mreturn\u001b[39;00m _array_strptime_with_fallback(arg, name, utc, \u001b[38;5;28mformat\u001b[39m, exact, errors)\n\u001b[1;32m--> 435\u001b[0m result, tz_parsed \u001b[38;5;241m=\u001b[39m \u001b[43mobjects_to_datetime64\u001b[49m\u001b[43m(\u001b[49m\n\u001b[0;32m    436\u001b[0m \u001b[43m    \u001b[49m\u001b[43marg\u001b[49m\u001b[43m,\u001b[49m\n\u001b[0;32m    437\u001b[0m \u001b[43m    \u001b[49m\u001b[43mdayfirst\u001b[49m\u001b[38;5;241;43m=\u001b[39;49m\u001b[43mdayfirst\u001b[49m\u001b[43m,\u001b[49m\n\u001b[0;32m    438\u001b[0m \u001b[43m    \u001b[49m\u001b[43myearfirst\u001b[49m\u001b[38;5;241;43m=\u001b[39;49m\u001b[43myearfirst\u001b[49m\u001b[43m,\u001b[49m\n\u001b[0;32m    439\u001b[0m \u001b[43m    \u001b[49m\u001b[43mutc\u001b[49m\u001b[38;5;241;43m=\u001b[39;49m\u001b[43mutc\u001b[49m\u001b[43m,\u001b[49m\n\u001b[0;32m    440\u001b[0m \u001b[43m    \u001b[49m\u001b[43merrors\u001b[49m\u001b[38;5;241;43m=\u001b[39;49m\u001b[43merrors\u001b[49m\u001b[43m,\u001b[49m\n\u001b[0;32m    441\u001b[0m \u001b[43m    \u001b[49m\u001b[43mallow_object\u001b[49m\u001b[38;5;241;43m=\u001b[39;49m\u001b[38;5;28;43;01mTrue\u001b[39;49;00m\u001b[43m,\u001b[49m\n\u001b[0;32m    442\u001b[0m \u001b[43m\u001b[49m\u001b[43m)\u001b[49m\n\u001b[0;32m    444\u001b[0m \u001b[38;5;28;01mif\u001b[39;00m tz_parsed \u001b[38;5;129;01mis\u001b[39;00m \u001b[38;5;129;01mnot\u001b[39;00m \u001b[38;5;28;01mNone\u001b[39;00m:\n\u001b[0;32m    445\u001b[0m     \u001b[38;5;66;03m# We can take a shortcut since the datetime64 numpy array\u001b[39;00m\n\u001b[0;32m    446\u001b[0m     \u001b[38;5;66;03m# is in UTC\u001b[39;00m\n\u001b[0;32m    447\u001b[0m     out_unit \u001b[38;5;241m=\u001b[39m np\u001b[38;5;241m.\u001b[39mdatetime_data(result\u001b[38;5;241m.\u001b[39mdtype)[\u001b[38;5;241m0\u001b[39m]\n",
      "File \u001b[1;32mc:\\Users\\Sian\\AppData\\Local\\Programs\\Python\\Python312\\Lib\\site-packages\\pandas\\core\\arrays\\datetimes.py:2398\u001b[0m, in \u001b[0;36mobjects_to_datetime64\u001b[1;34m(data, dayfirst, yearfirst, utc, errors, allow_object, out_unit)\u001b[0m\n\u001b[0;32m   2395\u001b[0m \u001b[38;5;66;03m# if str-dtype, convert\u001b[39;00m\n\u001b[0;32m   2396\u001b[0m data \u001b[38;5;241m=\u001b[39m np\u001b[38;5;241m.\u001b[39masarray(data, dtype\u001b[38;5;241m=\u001b[39mnp\u001b[38;5;241m.\u001b[39mobject_)\n\u001b[1;32m-> 2398\u001b[0m result, tz_parsed \u001b[38;5;241m=\u001b[39m \u001b[43mtslib\u001b[49m\u001b[38;5;241;43m.\u001b[39;49m\u001b[43marray_to_datetime\u001b[49m\u001b[43m(\u001b[49m\n\u001b[0;32m   2399\u001b[0m \u001b[43m    \u001b[49m\u001b[43mdata\u001b[49m\u001b[43m,\u001b[49m\n\u001b[0;32m   2400\u001b[0m \u001b[43m    \u001b[49m\u001b[43merrors\u001b[49m\u001b[38;5;241;43m=\u001b[39;49m\u001b[43merrors\u001b[49m\u001b[43m,\u001b[49m\n\u001b[0;32m   2401\u001b[0m \u001b[43m    \u001b[49m\u001b[43mutc\u001b[49m\u001b[38;5;241;43m=\u001b[39;49m\u001b[43mutc\u001b[49m\u001b[43m,\u001b[49m\n\u001b[0;32m   2402\u001b[0m \u001b[43m    \u001b[49m\u001b[43mdayfirst\u001b[49m\u001b[38;5;241;43m=\u001b[39;49m\u001b[43mdayfirst\u001b[49m\u001b[43m,\u001b[49m\n\u001b[0;32m   2403\u001b[0m \u001b[43m    \u001b[49m\u001b[43myearfirst\u001b[49m\u001b[38;5;241;43m=\u001b[39;49m\u001b[43myearfirst\u001b[49m\u001b[43m,\u001b[49m\n\u001b[0;32m   2404\u001b[0m \u001b[43m    \u001b[49m\u001b[43mcreso\u001b[49m\u001b[38;5;241;43m=\u001b[39;49m\u001b[43mabbrev_to_npy_unit\u001b[49m\u001b[43m(\u001b[49m\u001b[43mout_unit\u001b[49m\u001b[43m)\u001b[49m\u001b[43m,\u001b[49m\n\u001b[0;32m   2405\u001b[0m \u001b[43m\u001b[49m\u001b[43m)\u001b[49m\n\u001b[0;32m   2407\u001b[0m \u001b[38;5;28;01mif\u001b[39;00m tz_parsed \u001b[38;5;129;01mis\u001b[39;00m \u001b[38;5;129;01mnot\u001b[39;00m \u001b[38;5;28;01mNone\u001b[39;00m:\n\u001b[0;32m   2408\u001b[0m     \u001b[38;5;66;03m# We can take a shortcut since the datetime64 numpy array\u001b[39;00m\n\u001b[0;32m   2409\u001b[0m     \u001b[38;5;66;03m#  is in UTC\u001b[39;00m\n\u001b[0;32m   2410\u001b[0m     \u001b[38;5;28;01mreturn\u001b[39;00m result, tz_parsed\n",
      "File \u001b[1;32mtslib.pyx:414\u001b[0m, in \u001b[0;36mpandas._libs.tslib.array_to_datetime\u001b[1;34m()\u001b[0m\n",
      "File \u001b[1;32mtslib.pyx:596\u001b[0m, in \u001b[0;36mpandas._libs.tslib.array_to_datetime\u001b[1;34m()\u001b[0m\n",
      "File \u001b[1;32mtslib.pyx:553\u001b[0m, in \u001b[0;36mpandas._libs.tslib.array_to_datetime\u001b[1;34m()\u001b[0m\n",
      "File \u001b[1;32mconversion.pyx:641\u001b[0m, in \u001b[0;36mpandas._libs.tslibs.conversion.convert_str_to_tsobject\u001b[1;34m()\u001b[0m\n",
      "File \u001b[1;32mparsing.pyx:336\u001b[0m, in \u001b[0;36mpandas._libs.tslibs.parsing.parse_datetime_string\u001b[1;34m()\u001b[0m\n",
      "File \u001b[1;32mparsing.pyx:666\u001b[0m, in \u001b[0;36mpandas._libs.tslibs.parsing.dateutil_parse\u001b[1;34m()\u001b[0m\n",
      "\u001b[1;31mDateParseError\u001b[0m: Unknown datetime string format, unable to parse: O3-O1-17, at position 2"
     ]
    }
   ],
   "source": [
    "football_df['Date']=pd.to_datetime(football_df['Date']).dt.strftime()"
   ]
  },
  {
   "cell_type": "markdown",
   "metadata": {},
   "source": [
    "**Creating A Seperate Data Frame of Barcelona**"
   ]
  },
  {
   "cell_type": "code",
   "execution_count": 33,
   "metadata": {},
   "outputs": [],
   "source": [
    "barcelona_matches=[]\n",
    "for i in range(0,1564):\n",
    "\tif((football_df.at[i,'Club']=='FC Barcelona')  ):\n",
    "\t\tbarcelona_matches.append(i)\n",
    "\telse:\n",
    "\t\tcontinue"
   ]
  },
  {
   "cell_type": "code",
   "execution_count": 34,
   "metadata": {},
   "outputs": [],
   "source": [
    "barca_df =football_df.iloc[barcelona_matches]"
   ]
  },
  {
   "cell_type": "code",
   "execution_count": 38,
   "metadata": {},
   "outputs": [
    {
     "data": {
      "text/plain": [
       "(717, 13)"
      ]
     },
     "execution_count": 38,
     "metadata": {},
     "output_type": "execute_result"
    }
   ],
   "source": [
    "barca_df.shape"
   ]
  }
 ],
 "metadata": {
  "kernelspec": {
   "display_name": "Python 3",
   "language": "python",
   "name": "python3"
  },
  "language_info": {
   "codemirror_mode": {
    "name": "ipython",
    "version": 3
   },
   "file_extension": ".py",
   "mimetype": "text/x-python",
   "name": "python",
   "nbconvert_exporter": "python",
   "pygments_lexer": "ipython3",
   "version": "3.12.4"
  }
 },
 "nbformat": 4,
 "nbformat_minor": 2
}
