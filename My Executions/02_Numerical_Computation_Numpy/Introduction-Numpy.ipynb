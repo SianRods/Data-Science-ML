{
 "cells": [
  {
   "cell_type": "markdown",
   "metadata": {},
   "source": [
    "https://jovian.ai/aakashns/python-numerical-computing-with-numpy"
   ]
  },
  {
   "cell_type": "markdown",
   "metadata": {},
   "source": [
    "Given some climate data for a region, we can now predict the yield of apples. Here's some sample data:\n",
    "\n",
    "<img src=\"https://i.imgur.com/TXPBiqv.png\" style=\"width:360px;\">\n",
    "\n",
    "To begin, we can define some variables to record climate data for a region."
   ]
  },
  {
   "cell_type": "code",
   "execution_count": 2,
   "metadata": {},
   "outputs": [],
   "source": [
    "# The above code can be analysed using lists only without the need of an Array\n",
    "w1,w2,w3=.2,0.3,0.5\n",
    "weights =[w1,w2,w3] # Converting them to list Format \n",
    "\n",
    "# converting all the regional data to list format to handle it as needed \n",
    "\n",
    "kanto=[73,67,43]\n",
    "johto=[91,88,64]\n",
    "Hoenn=[87,134,58]\n",
    "Sinnoh=[102,43,37]\n",
    "Unova=[69,96,70]\n",
    "\n",
    "# Converting all the Data to List Format to better Handle it \n",
    "# List wihtin lists\n",
    "region=[kanto,johto,Hoenn,Sinnoh,Unova]\n"
   ]
  },
  {
   "cell_type": "markdown",
   "metadata": {},
   "source": [
    "Now Defining a function which will help us to calculate the yeild in tones per hectare using the formula\n",
    "yeilds_apples = w1*temp + w2*rainfall+ w3*humidity"
   ]
  },
  {
   "cell_type": "code",
   "execution_count": 3,
   "metadata": {},
   "outputs": [
    {
     "data": {
      "text/plain": [
       "[0.2, 0.3, 0.5]"
      ]
     },
     "execution_count": 3,
     "metadata": {},
     "output_type": "execute_result"
    }
   ],
   "source": [
    "weights"
   ]
  },
  {
   "cell_type": "code",
   "execution_count": 4,
   "metadata": {},
   "outputs": [
    {
     "data": {
      "text/plain": [
       "[73, 67, 43]"
      ]
     },
     "execution_count": 4,
     "metadata": {},
     "output_type": "execute_result"
    }
   ],
   "source": [
    "kanto"
   ]
  },
  {
   "cell_type": "code",
   "execution_count": 35,
   "metadata": {},
   "outputs": [],
   "source": [
    "# We have to return weighted sum \n",
    "def calSum(weights,place):\n",
    "\tsum=0\n",
    "\tfor i in range(0,3):\n",
    "\t\tsum+=weights[i]*kanto[i]\n",
    "\n",
    "\treturn float(sum)"
   ]
  },
  {
   "cell_type": "markdown",
   "metadata": {},
   "source": [
    " ## Now using the function to get the yeild "
   ]
  },
  {
   "cell_type": "code",
   "execution_count": 36,
   "metadata": {},
   "outputs": [
    {
     "data": {
      "text/plain": [
       "56.2"
      ]
     },
     "execution_count": 36,
     "metadata": {},
     "output_type": "execute_result"
    }
   ],
   "source": [
    "# To remove yeild in kanto\n",
    "calSum(weights,kanto)"
   ]
  },
  {
   "cell_type": "markdown",
   "metadata": {},
   "source": [
    "### Revise Loops in Python properly to get use with iteration\n",
    "### Now the same thing can be acheived by making vector dot product "
   ]
  },
  {
   "cell_type": "markdown",
   "metadata": {},
   "source": [
    "Importing the Numpy Module "
   ]
  },
  {
   "cell_type": "code",
   "execution_count": 13,
   "metadata": {},
   "outputs": [],
   "source": [
    "import numpy as np "
   ]
  },
  {
   "cell_type": "markdown",
   "metadata": {},
   "source": [
    "# Numpy arrays store elements having the same data type "
   ]
  },
  {
   "cell_type": "markdown",
   "metadata": {},
   "source": [
    "If you've taken a linear algebra class in high school, you may recognize the above 2-d array as a matrix with five rows and three columns. Each row represents one region, and the columns represent temperature, rainfall, and humidity, respectively.\n",
    "\n",
    "Numpy arrays can have any number of dimensions and different lengths along each dimension. We can inspect the length along each dimension using the `.shape` property of an array.\n",
    "\n",
    "<img src=\"https://fgnt.github.io/python_crashkurs_doc/_images/numpy_array_t.png\" width=\"420\">\n"
   ]
  },
  {
   "cell_type": "markdown",
   "metadata": {},
   "source": [
    "# Single Dimensional Numpy Arrays"
   ]
  },
  {
   "cell_type": "markdown",
   "metadata": {},
   "source": [
    "Note that the Numpy arrays are similar to those of lists in python except they are multiple times \n",
    "faster as compared to that of lists as the inner functions in numpy are written in c++ . Above np is used as an object of numpy"
   ]
  },
  {
   "cell_type": "markdown",
   "metadata": {},
   "source": [
    "In order to determine what a function does we can simply use the help() method to determine its usecase"
   ]
  },
  {
   "cell_type": "code",
   "execution_count": 14,
   "metadata": {},
   "outputs": [
    {
     "name": "stdout",
     "output_type": "stream",
     "text": [
      "<class 'numpy.ndarray'>\n"
     ]
    }
   ],
   "source": [
    "# Converting the lists to Numpy Arrays \n",
    "arr1 =np.array([1,2,3])\n",
    "arr2= np.array([4,5,6])\n",
    "# Created 2 Numpy Arrays \n",
    "\n",
    "print(type(arr1))\n"
   ]
  },
  {
   "cell_type": "code",
   "execution_count": 19,
   "metadata": {},
   "outputs": [
    {
     "name": "stdout",
     "output_type": "stream",
     "text": [
      "32\n"
     ]
    }
   ],
   "source": [
    "# Using Numpy Functions \n",
    "print(arr1.dot(arr2).sum())\n",
    "# Sum of all the elements in the array returned after implemeting \n",
    "# arr1.dot(arr2) --> return type is an Array and sum() --> Caculates the sum of all the elements"
   ]
  },
  {
   "cell_type": "code",
   "execution_count": 20,
   "metadata": {},
   "outputs": [],
   "source": [
    "Kanto_data1=np.array(kanto) # Converting the lists to Array\n",
    "weights_arr =np.array(weights) "
   ]
  },
  {
   "cell_type": "code",
   "execution_count": 21,
   "metadata": {},
   "outputs": [
    {
     "name": "stdout",
     "output_type": "stream",
     "text": [
      "56.2\n"
     ]
    }
   ],
   "source": [
    "print(Kanto_data1.dot(weights_arr))"
   ]
  },
  {
   "cell_type": "code",
   "execution_count": 23,
   "metadata": {},
   "outputs": [
    {
     "data": {
      "text/plain": [
       "array([1, 2, 3])"
      ]
     },
     "execution_count": 23,
     "metadata": {},
     "output_type": "execute_result"
    }
   ],
   "source": [
    "arr1\n",
    "\n"
   ]
  },
  {
   "cell_type": "markdown",
   "metadata": {},
   "source": [
    "# Multidimensional Numpy Arrays"
   ]
  },
  {
   "cell_type": "code",
   "execution_count": 32,
   "metadata": {},
   "outputs": [],
   "source": [
    "# Two Dimensioanl Arrays \n",
    "climate_data =np.array([kanto,\n",
    "\t\t\t\t\t   Hoenn,\n",
    "\t\t\t\t\t   johto,\n",
    "\t\t\t\t\t   Sinnoh,\n",
    "\t\t\t\t\t   Unova])\n",
    "# Note that all the above city names already represent lists with data such as temp,rainfall,humidity\n",
    "# Syntax -->\n",
    "#  array_name= np.array([Lists_of_Lists])"
   ]
  },
  {
   "cell_type": "code",
   "execution_count": 33,
   "metadata": {},
   "outputs": [
    {
     "data": {
      "text/plain": [
       "array([[ 73,  67,  43],\n",
       "       [ 87, 134,  58],\n",
       "       [ 91,  88,  64],\n",
       "       [102,  43,  37],\n",
       "       [ 69,  96,  70]])"
      ]
     },
     "execution_count": 33,
     "metadata": {},
     "output_type": "execute_result"
    }
   ],
   "source": [
    "climate_data"
   ]
  },
  {
   "cell_type": "markdown",
   "metadata": {},
   "source": [
    "### Using Numpy we can have N-Dimensional array we have to just keep Nesting it "
   ]
  },
  {
   "cell_type": "markdown",
   "metadata": {},
   "source": [
    "shape --> Attribute helps in defining the dimensions of a given array\n",
    "Output of Shape --> Tuple () "
   ]
  },
  {
   "cell_type": "code",
   "execution_count": 40,
   "metadata": {},
   "outputs": [
    {
     "name": "stdout",
     "output_type": "stream",
     "text": [
      "[[ 73  67  43]\n",
      " [ 87 134  58]\n",
      " [ 91  88  64]\n",
      " [102  43  37]\n",
      " [ 69  96  70]]\n"
     ]
    },
    {
     "data": {
      "text/plain": [
       "(5, 3)"
      ]
     },
     "execution_count": 40,
     "metadata": {},
     "output_type": "execute_result"
    }
   ],
   "source": [
    "print(climate_data)\n",
    "climate_data.shape\n",
    "# Denotes 5 rows and 3 columns"
   ]
  },
  {
   "cell_type": "code",
   "execution_count": 41,
   "metadata": {},
   "outputs": [
    {
     "data": {
      "text/plain": [
       "(3,)"
      ]
     },
     "execution_count": 41,
     "metadata": {},
     "output_type": "execute_result"
    }
   ],
   "source": [
    "arr1.shape\n",
    "# One Dimensional Array"
   ]
  },
  {
   "cell_type": "markdown",
   "metadata": {},
   "source": [
    "# Inorder to work with numpy arrays we need all the elements having the same data type \n",
    "### .dtype can be used to show data type of an element stored in an array  "
   ]
  },
  {
   "cell_type": "code",
   "execution_count": 42,
   "metadata": {},
   "outputs": [
    {
     "data": {
      "text/plain": [
       "dtype('int64')"
      ]
     },
     "execution_count": 42,
     "metadata": {},
     "output_type": "execute_result"
    }
   ],
   "source": [
    "climate_data.dtype"
   ]
  },
  {
   "cell_type": "code",
   "execution_count": 47,
   "metadata": {},
   "outputs": [
    {
     "name": "stdout",
     "output_type": "stream",
     "text": [
      "['Sian' 'Ryan' 'Smayan' 'Gadge' '234.4']\n"
     ]
    },
    {
     "data": {
      "text/plain": [
       "dtype('<U32')"
      ]
     },
     "execution_count": 47,
     "metadata": {},
     "output_type": "execute_result"
    }
   ],
   "source": [
    "#  If any one of the Follwing in float all will be converted to floating point \n",
    "name_data=np.array([\"Sian\",\"Ryan\",\"Smayan\",\"Gadge\",234.4])\n",
    "print(name_data)\n",
    "name_data.dtype"
   ]
  },
  {
   "cell_type": "markdown",
   "metadata": {},
   "source": [
    "In the above code even though 234.4 was inputted as an integer it has been converted to String dtype \n",
    "as all the numpy arrays have same data types"
   ]
  },
  {
   "cell_type": "markdown",
   "metadata": {},
   "source": [
    "Yeild data for all the locations can be easily computed using the matrix multiplication weights vectors\n",
    "and climate_data"
   ]
  },
  {
   "cell_type": "code",
   "execution_count": 48,
   "metadata": {},
   "outputs": [
    {
     "name": "stdout",
     "output_type": "stream",
     "text": [
      "[56.2 86.6 76.6 51.8 77.6]\n"
     ]
    }
   ],
   "source": [
    "#  We will receive a return data \n",
    "print(np.matmul(climate_data,weights_arr))"
   ]
  },
  {
   "cell_type": "markdown",
   "metadata": {},
   "source": [
    "Another method to do Matrix Multiplication is to use the '@' character denoting the matrix multiplication in Numpy"
   ]
  }
 ],
 "metadata": {
  "kernelspec": {
   "display_name": "Python 3",
   "language": "python",
   "name": "python3"
  },
  "language_info": {
   "codemirror_mode": {
    "name": "ipython",
    "version": 3
   },
   "file_extension": ".py",
   "mimetype": "text/x-python",
   "name": "python",
   "nbconvert_exporter": "python",
   "pygments_lexer": "ipython3",
   "version": "3.12.4"
  }
 },
 "nbformat": 4,
 "nbformat_minor": 2
}
