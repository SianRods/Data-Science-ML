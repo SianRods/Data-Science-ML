{
 "cells": [
  {
   "cell_type": "code",
   "execution_count": 2,
   "metadata": {},
   "outputs": [],
   "source": [
    "import numpy as py "
   ]
  },
  {
   "cell_type": "markdown",
   "metadata": {},
   "source": [
    "## Airhtmetic Operations in Numpy"
   ]
  },
  {
   "cell_type": "code",
   "execution_count": 3,
   "metadata": {},
   "outputs": [],
   "source": [
    "# Declaring Two Arrays \n",
    "arr1= py.array([[1,2,3,4],\n",
    "\t\t\t   [5,6,7,8],\n",
    "\t\t\t   [9,10,11,12]])\n",
    "\n",
    "arr2 =py.array([[234,43,53,32],\n",
    "\t\t\t   [1,23,43,54],\n",
    "\t\t\t   [4,34,5,3]])"
   ]
  },
  {
   "cell_type": "code",
   "execution_count": 4,
   "metadata": {},
   "outputs": [
    {
     "name": "stdout",
     "output_type": "stream",
     "text": [
      "(3, 4)\n",
      "(3, 4)\n"
     ]
    }
   ],
   "source": [
    "print(arr1.shape)\n",
    "print(arr2.shape)"
   ]
  },
  {
   "cell_type": "code",
   "execution_count": 5,
   "metadata": {},
   "outputs": [
    {
     "name": "stdout",
     "output_type": "stream",
     "text": [
      "[[235  45  56  36]\n",
      " [  6  29  50  62]\n",
      " [ 13  44  16  15]]\n",
      "[[-233  -41  -50  -28]\n",
      " [   4  -17  -36  -46]\n",
      " [   5  -24    6    9]]\n",
      "[[0.5 1.  1.5 2. ]\n",
      " [2.5 3.  3.5 4. ]\n",
      " [4.5 5.  5.5 6. ]]\n"
     ]
    }
   ],
   "source": [
    "# Both arrays are dimensions wise compatible to be added\n",
    "print(arr1+arr2)\n",
    "print(arr1-arr2)\n",
    "print(arr1/2)#Dividing an array by Scalar "
   ]
  },
  {
   "cell_type": "markdown",
   "metadata": {},
   "source": [
    "### Array Broadcasting\n",
    "\n",
    "Numpy arrays also support *broadcasting*, allowing arithmetic operations between two arrays with different numbers of dimensions but compatible shapes. Let's look at an example to see how it works."
   ]
  },
  {
   "cell_type": "markdown",
   "metadata": {},
   "source": [
    "When the expression `arr2 + arr4` is evaluated, `arr4` (which has the shape `(4,)`) is replicated three times to match the shape `(3, 4)` of `arr2`. Numpy performs the replication without actually creating three copies of the smaller dimension array, thus improving performance and using lower memory.\n",
    "\n",
    "<img src=\"https://jakevdp.github.io/PythonDataScienceHandbook/figures/02.05-broadcasting.png\" width=\"360\">\n",
    "\n",
    "## Broadcasting only works if one of the arrays can be replicated to match the other array's shape."
   ]
  },
  {
   "cell_type": "code",
   "execution_count": 6,
   "metadata": {},
   "outputs": [
    {
     "name": "stdout",
     "output_type": "stream",
     "text": [
      "[[ 2  4  6 16]\n",
      " [ 6  8 10 20]\n",
      " [10 12 14 24]]\n"
     ]
    }
   ],
   "source": [
    "arr_3=py.array([[1,2,3,12]])\n",
    "arr_4=py.array([[1,2,3,4],\n",
    "\t\t\t   [5,6,7,8],\n",
    "\t\t\t   [9,10,11,12]])\n",
    "# Notice here that Both the arrays are of different dimensions but arr_3 can be replicated internally\n",
    "# by Numpy to match the dimension of arra_4 additional 2 arrays of arr_3 are needed\n",
    "# \n",
    "# But is arr_3=py.array([1,2,3]) --> Broadcasting Not Possible as it cannot be replicated in any form \n",
    "# to match the demensioins of arr_4 \n",
    "print(arr_3+arr_4)"
   ]
  },
  {
   "cell_type": "markdown",
   "metadata": {},
   "source": [
    "## Comparison Operators on Arrays in Numpy\t"
   ]
  },
  {
   "cell_type": "markdown",
   "metadata": {},
   "source": [
    "All the comparison operators can be used on array and the status is returned in terms of boolean array where match condition of the opereators will result in true and others will result in false ``"
   ]
  },
  {
   "cell_type": "code",
   "execution_count": 7,
   "metadata": {},
   "outputs": [
    {
     "name": "stdout",
     "output_type": "stream",
     "text": [
      "[[False False False False]\n",
      " [False False False False]\n",
      " [False False False False]]\n",
      "<class 'numpy.ndarray'>\n"
     ]
    }
   ],
   "source": [
    "# sum() --> Which evaluates the sum of array can be used to return number of true cases for given operator\n",
    "print((arr1==arr2)) #--> Returns arrays of type boolean\n",
    "\n",
    "print(type(arr1>arr2))"
   ]
  },
  {
   "cell_type": "code",
   "execution_count": 8,
   "metadata": {},
   "outputs": [
    {
     "name": "stdout",
     "output_type": "stream",
     "text": [
      "3\n"
     ]
    }
   ],
   "source": [
    "num1=py.array([[1,2,3],\n",
    "\t\t\t   [4,5,6]])\n",
    "num2 = py.array([[1,2,34],\n",
    "\t\t\t\t [23,5,45]])\n",
    "\n",
    "print((num1==num2).sum())"
   ]
  },
  {
   "cell_type": "code",
   "execution_count": 9,
   "metadata": {},
   "outputs": [
    {
     "data": {
      "text/plain": [
       "array([[False, False, False],\n",
       "       [False, False, False]])"
      ]
     },
     "execution_count": 9,
     "metadata": {},
     "output_type": "execute_result"
    }
   ],
   "source": [
    "num1>num2"
   ]
  },
  {
   "cell_type": "code",
   "execution_count": 10,
   "metadata": {},
   "outputs": [
    {
     "name": "stdout",
     "output_type": "stream",
     "text": [
      "<class 'numpy.ndarray'>\n"
     ]
    }
   ],
   "source": [
    "num2>=num1\n",
    "print(type(num2>=num1))"
   ]
  },
  {
   "cell_type": "markdown",
   "metadata": {},
   "source": [
    "## Array indexing & Slicing "
   ]
  },
  {
   "cell_type": "markdown",
   "metadata": {},
   "source": [
    "Data Retrievel and Slicing of the array in numpy "
   ]
  }
 ],
 "metadata": {
  "kernelspec": {
   "display_name": "Python 3",
   "language": "python",
   "name": "python3"
  },
  "language_info": {
   "codemirror_mode": {
    "name": "ipython",
    "version": 3
   },
   "file_extension": ".py",
   "mimetype": "text/x-python",
   "name": "python",
   "nbconvert_exporter": "python",
   "pygments_lexer": "ipython3",
   "version": "3.12.4"
  }
 },
 "nbformat": 4,
 "nbformat_minor": 2
}
