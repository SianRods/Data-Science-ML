{
 "cells": [
  {
   "cell_type": "markdown",
   "metadata": {},
   "source": [
    "| Column Name         | Description                                                                 |\n",
    "|---------------------|-----------------------------------------------------------------------------|\n",
    "| `customerID`(Unique Identifier)        | Customer ID                                                                 |\n",
    "| `gender`            | Whether the customer is male or female                                       |\n",
    "| `SeniorCitizen`     | Whether the customer is a senior citizen (1 = Yes, 0 = No)                   |\n",
    "| `Partner`           | Whether the customer has a partner (Yes, No)                                 |\n",
    "| `Dependents`        | Whether the customer has dependents (Yes, No)                                |\n",
    "| `tenure`            | Number of months the customer has stayed with the company                    |\n",
    "| `PhoneService`      | Whether the customer has a phone service (Yes, No)                           |\n",
    "| `MultipleLines`     | Whether the customer has multiple lines (Yes, No, No phone service)          |\n",
    "| `InternetService`   | Customer’s internet service provider (DSL, Fiber optic, No)                  |\n",
    "| `OnlineSecurity`    | Whether the customer has online security (Yes, No, No internet service)      |\n",
    "| `OnlineBackup`      | Whether the customer has online backup (Yes, No, No internet service)        |\n",
    "| `DeviceProtection`  | Whether the customer has device protection (Yes, No, No internet service)    |\n",
    "| `TechSupport`       | Whether the customer has tech support (Yes, No, No internet service)         |\n",
    "| `StreamingTV`       | Whether the customer has streaming TV service (Yes, No, No internet service) |\n",
    "| `StreamingMovies`   | Whether the customer has streaming movies service (Yes, No, No internet service) |\n",
    "| `Contract`          | Indicates the type of the contract (Month-to-month, One year, Two year)      |\n",
    "| `PaperlessBilling`  | Whether the customer has paperless billing (Yes, No)                         |\n",
    "| `PaymentMethod`     | Indicates the payment method (Electronic check, Mailed check, Bank transfer (automatic), Credit card (automatic)) |\n",
    "| `MonthlyCharges`    | Indicates the current monthly subscription cost of the customer              |\n",
    "| `TotalCharges`      | Indicates the total charges paid by the customer so far                      |\n",
    "| `Churn` (Output Column)           | Indicates whether the customer churned (Yes, No)                             |\n"
   ]
  },
  {
   "cell_type": "markdown",
   "metadata": {},
   "source": []
  }
 ],
 "metadata": {
  "language_info": {
   "name": "python"
  }
 },
 "nbformat": 4,
 "nbformat_minor": 2
}
