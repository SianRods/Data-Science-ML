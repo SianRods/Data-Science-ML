{
 "cells": [
  {
   "cell_type": "markdown",
   "metadata": {},
   "source": [
    "| Column Name         | Description                                                                 |\n",
    "|---------------------|-----------------------------------------------------------------------------|\n",
    "| `customerID`(Unique Identifier)        | Customer ID                                                                 |\n",
    "| `gender`            | Whether the customer is male or female                                       |\n",
    "| `SeniorCitizen`     | Whether the customer is a senior citizen (1 = Yes, 0 = No)                   |\n",
    "| `Partner`           | Whether the customer has a partner (Yes, No)                                 |\n",
    "| `Dependents`        | Whether the customer has dependents (Yes, No)                                |\n",
    "| `tenure`            | Number of months the customer has stayed with the company                    |\n",
    "| `PhoneService`      | Whether the customer has a phone service (Yes, No)                           |\n",
    "| `MultipleLines`     | Whether the customer has multiple lines (Yes, No, No phone service)          |\n",
    "| `InternetService`   | Customer’s internet service provider (DSL, Fiber optic, No)                  |\n",
    "| `OnlineSecurity`    | Whether the customer has online security (Yes, No, No internet service)      |\n",
    "| `OnlineBackup`      | Whether the customer has online backup (Yes, No, No internet service)        |\n",
    "| `DeviceProtection`  | Whether the customer has device protection (Yes, No, No internet service)    |\n",
    "| `TechSupport`       | Whether the customer has tech support (Yes, No, No internet service)         |\n",
    "| `StreamingTV`       | Whether the customer has streaming TV service (Yes, No, No internet service) |\n",
    "| `StreamingMovies`   | Whether the customer has streaming movies service (Yes, No, No internet service) |\n",
    "| `Contract`          | Indicates the type of the contract (Month-to-month, One year, Two year)      |\n",
    "| `PaperlessBilling`  | Whether the customer has paperless billing (Yes, No)                         |\n",
    "| `PaymentMethod`     | Indicates the payment method (Electronic check, Mailed check, Bank transfer (automatic), Credit card (automatic)) |\n",
    "| `MonthlyCharges`    | Indicates the current monthly subscription cost of the customer              |\n",
    "| `TotalCharges`      | Indicates the total charges paid by the customer so far                      |\n",
    "| `Churn` (Output Column)           | Indicates whether the customer churned (Yes, No)                             |\n"
   ]
  },
  {
   "cell_type": "markdown",
   "metadata": {},
   "source": [
    "### Unique Values in the Each Columns\n",
    "\n",
    "Unique Values in column gender  is : ['Female' 'Male']  \\\n",
    "Unique Values in column SeniorCitizen  is : [0 1]     \\\n",
    "Unique Values in column Partner  is : ['Yes' 'No']      \\\n",
    "Unique Values in column Dependents  is : ['No' 'Yes']     \\\n",
    "Unique Values in column tenure  is : [ 1 34  2 45  8 22 10 28 62 13 16 58 49 25 69 52 71 21 12 30 47 72 17 27\n",
    "  5 46 11 70 63 43 15 60 18 66  9  3 31 50 64 56  7 42 35 48 29 65 38 68\n",
    " 32 55 37 36 41  6  4 33 67 23 57 61 14 20 53 40 59 24 44 19 54 51 26  0\n",
    " 39]    \\\n",
    "Unique Values in column PhoneService  is : ['No' 'Yes']     \\\n",
    "Unique Values in column MultipleLines  is : ['No phone service' 'No' 'Yes']     \\\n",
    "Unique Values in column InternetService  is : ['DSL' 'Fiber optic' 'No']        \\\n",
    "Unique Values in column OnlineSecurity  is : ['No' 'Yes' 'No internet service']       \\\n",
    "Unique Values in column OnlineBackup  is : ['Yes' 'No' 'No internet service']       \\\n",
    "Unique Values in column DeviceProtection  is : ['No' 'Yes' 'No internet service']       \\\n",
    "Unique Values in column TechSupport  is : ['No' 'Yes' 'No internet service']        \\\n",
    "Unique Values in column StreamingTV  is : ['No' 'Yes' 'No internet service']        \\\n",
    "Unique Values in column StreamingMovies  is : ['No' 'Yes' 'No internet service']        \\\n",
    "Unique Values in column Contract  is : ['Month-to-month' 'One year' 'Two year']       \\\n",
    "Unique Values in column PaperlessBilling  is : ['Yes' 'No']       \\\n",
    "Unique Values in column PaymentMethod  is : ['Electronic check' 'Mailed check' 'Bank transfer (automatic)'\n",
    " 'Credit card (automatic)']       \\\n",
    "Unique Values in column MonthlyCharges  is : [29.85 56.95 53.85 ... 63.1  44.2  78.7 ]        \\\n",
    "Unique Values in column TotalCharges  is : ['29.85' '1889.5' '108.15' ... '346.45' '306.6' '6844.5']        \\\n",
    "Unique Values in column Churn  is : ['No' 'Yes']        \\"
   ]
  },
  {
   "cell_type": "markdown",
   "metadata": {},
   "source": []
  }
 ],
 "metadata": {
  "language_info": {
   "name": "python"
  }
 },
 "nbformat": 4,
 "nbformat_minor": 2
}
